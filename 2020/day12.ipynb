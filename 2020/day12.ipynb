{
 "metadata": {
  "language_info": {
   "codemirror_mode": {
    "name": "ipython",
    "version": 3
   },
   "file_extension": ".py",
   "mimetype": "text/x-python",
   "name": "python",
   "nbconvert_exporter": "python",
   "pygments_lexer": "ipython3",
   "version": "3.9.0-final"
  },
  "orig_nbformat": 2,
  "kernelspec": {
   "name": "python3",
   "display_name": "Python 3",
   "language": "python"
  }
 },
 "nbformat": 4,
 "nbformat_minor": 2,
 "cells": [
  {
   "cell_type": "code",
   "execution_count": 1,
   "metadata": {},
   "outputs": [],
   "source": [
    "import math\n",
    "import string\n",
    "import time\n",
    "from collections import defaultdict\n",
    "from helpful_functions import *"
   ]
  },
  {
   "cell_type": "code",
   "execution_count": 2,
   "metadata": {},
   "outputs": [
    {
     "output_type": "stream",
     "name": "stdout",
     "text": [
      "['F20', 'L90', 'E5', 'S1', 'R180', 'F67', 'S3', 'F75', 'L180', 'W4']\n"
     ]
    }
   ],
   "source": [
    "with open(\"day12_input.txt\", \"r\") as f:\n",
    "    prog_inp = f.readlines()\n",
    "\n",
    "prog_inp = [line.rstrip() for line in prog_inp]\n",
    "\n",
    "for i in range(len(prog_inp)-1,-1,-1):\n",
    "    if prog_inp[i] == '': del prog_inp[i]\n",
    "    else: break\n",
    "print(prog_inp[:10])"
   ]
  },
  {
   "cell_type": "code",
   "execution_count": 3,
   "metadata": {},
   "outputs": [
    {
     "output_type": "stream",
     "name": "stdout",
     "text": [
      "[('F', 20), ('L', 90), ('E', 5), ('S', 1), ('R', 180), ('F', 67), ('S', 3), ('F', 75), ('L', 180), ('W', 4)]\n"
     ]
    }
   ],
   "source": [
    "parsed_inp = []\n",
    "for i, line in enumerate(prog_inp):\n",
    "    parsed_inp.append((line[0], int(line[1:])))\n",
    "print(parsed_inp[:10])"
   ]
  },
  {
   "cell_type": "code",
   "execution_count": 4,
   "metadata": {},
   "outputs": [
    {
     "output_type": "stream",
     "name": "stdout",
     "text": [
      "364\n"
     ]
    }
   ],
   "source": [
    "directions = ['N', 'E', 'S', 'W']\n",
    "boat_direction = 'E'\n",
    "boat_position = [0,0]\n",
    "\n",
    "def turn(boat_direction, value):\n",
    "    nr_quad = value[1] // 90\n",
    "    if value[0] == 'L':\n",
    "        nr_quad *= -1\n",
    "\n",
    "    boat_direction = directions[(directions.index(boat_direction) + nr_quad) % 4]\n",
    "    return boat_direction\n",
    "\n",
    "def move(boat_position, boat_direction, value):\n",
    "    dN = 0\n",
    "    dE = 0\n",
    "    if value[0] == 'F': value = (boat_direction, value[1])\n",
    "    if   value[0] == 'N': dN += value[1]\n",
    "    elif value[0] == 'E': dE += value[1]\n",
    "    elif value[0] == 'S': dN -= value[1]\n",
    "    elif value[0] == 'W': dE -= value[1]\n",
    "    new_position = boat_position[:]\n",
    "    new_position[0] += dN\n",
    "    new_position[1] += dE\n",
    "    return new_position\n",
    "\n",
    "for instruction in parsed_inp:\n",
    "    if instruction[0] == 'L' or instruction[0] == 'R':\n",
    "        boat_direction = turn(boat_direction, instruction)\n",
    "    else:\n",
    "        boat_position = move(boat_position, boat_direction, instruction)\n",
    "\n",
    "print(sum([abs(v) for v in boat_position]))"
   ]
  },
  {
   "cell_type": "code",
   "execution_count": 5,
   "metadata": {},
   "outputs": [
    {
     "output_type": "stream",
     "name": "stdout",
     "text": [
      "39518\n"
     ]
    }
   ],
   "source": [
    "directions = ['N', 'E', 'S', 'W']\n",
    "waypoint_position = [1, 10]\n",
    "boat_position = [0, 0]\n",
    "\n",
    "def turn(waypoint_position, value):\n",
    "    nr_quad = (value[1] // 90) % 4\n",
    "\n",
    "    prev_position = waypoint_position[:]\n",
    "    new_position = [0, 0]\n",
    "    for i in range(nr_quad):\n",
    "        if value[0] == 'L':\n",
    "            new_position[0] = prev_position[1]\n",
    "            new_position[1] = prev_position[0] * -1\n",
    "        elif value[0] == 'R':\n",
    "            new_position[0] = prev_position[1] * -1\n",
    "            new_position[1] = prev_position[0]\n",
    "        prev_position = new_position[:]\n",
    "\n",
    "    return new_position\n",
    "\n",
    "def move(waypoint_position, value):\n",
    "    dN = 0\n",
    "    dE = 0\n",
    "    if   value[0] == 'N': dN += value[1]\n",
    "    elif value[0] == 'E': dE += value[1]\n",
    "    elif value[0] == 'S': dN -= value[1]\n",
    "    elif value[0] == 'W': dE -= value[1]\n",
    "    new_position = waypoint_position[:]\n",
    "    new_position[0] += dN\n",
    "    new_position[1] += dE\n",
    "    return new_position\n",
    "\n",
    "for instruction in parsed_inp:\n",
    "    if instruction[0] == 'F':\n",
    "        boat_position[0] += waypoint_position[0] * instruction[1]\n",
    "        boat_position[1] += waypoint_position[1] * instruction[1]\n",
    "    elif instruction[0] == 'L' or instruction[0] == 'R':\n",
    "        waypoint_position = turn(waypoint_position, instruction)\n",
    "    else:\n",
    "        waypoint_position = move(waypoint_position, instruction)\n",
    "\n",
    "print(sum([abs(v) for v in boat_position]))"
   ]
  }
 ]
}