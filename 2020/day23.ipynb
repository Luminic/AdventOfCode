{
 "metadata": {
  "language_info": {
   "codemirror_mode": {
    "name": "ipython",
    "version": 3
   },
   "file_extension": ".py",
   "mimetype": "text/x-python",
   "name": "python",
   "nbconvert_exporter": "python",
   "pygments_lexer": "ipython3",
   "version": "3.9.1-final"
  },
  "orig_nbformat": 2,
  "kernelspec": {
   "name": "python3",
   "display_name": "Python 3",
   "language": "python"
  }
 },
 "nbformat": 4,
 "nbformat_minor": 2,
 "cells": [
  {
   "cell_type": "code",
   "execution_count": 1,
   "metadata": {},
   "outputs": [],
   "source": [
    "import math\n",
    "import string\n",
    "import time\n",
    "from collections import defaultdict\n",
    "from helpful_functions import *\n",
    "import re\n",
    "import copy\n",
    "import functools"
   ]
  },
  {
   "cell_type": "code",
   "execution_count": 2,
   "metadata": {},
   "outputs": [
    {
     "output_type": "stream",
     "name": "stdout",
     "text": [
      "['653427918']\n"
     ]
    }
   ],
   "source": [
    "with open(\"day23_input.txt\", \"r\") as f:\n",
    "    prog_inp = f.readlines()\n",
    "\n",
    "prog_inp = [line.rstrip() for line in prog_inp]\n",
    "\n",
    "for i in range(len(prog_inp)-1,-1,-1):\n",
    "    if prog_inp[i] == '': del prog_inp[i]\n",
    "    else: break\n",
    "print(prog_inp[:5])"
   ]
  },
  {
   "cell_type": "code",
   "execution_count": 3,
   "metadata": {
    "tags": []
   },
   "outputs": [
    {
     "output_type": "stream",
     "name": "stdout",
     "text": [
      "76952348\n"
     ]
    }
   ],
   "source": [
    "cups = [int(c) for c in prog_inp[0]]\n",
    "max_cup = max(cups)\n",
    "\n",
    "def move(cups):\n",
    "    next_3 = cups[1:4]\n",
    "    dest_index = 0\n",
    "    dest_value = cups[0]\n",
    "    while dest_index == 0:\n",
    "        dest_value -= 1\n",
    "        if dest_value == 0: dest_value = max_cup\n",
    "        for i,cup in enumerate(cups[4:]):\n",
    "            if dest_value == cup:\n",
    "                dest_index = i + 4\n",
    "                break\n",
    "    new_cups = cups[4:dest_index + 1] + next_3 + cups[dest_index+1:] + [cups[0]]\n",
    "    return new_cups\n",
    "\n",
    "for i in range(100):\n",
    "    cups = move(cups)\n",
    "\n",
    "res = cups[cups.index(1)+1:] + cups[:cups.index(1)]\n",
    "print(\"\".join(str(n) for n in res))"
   ]
  },
  {
   "cell_type": "code",
   "execution_count": 4,
   "metadata": {},
   "outputs": [],
   "source": [
    "class Node:\n",
    "    def __init__(self, n=None, next_node=None):\n",
    "        self.n = n\n",
    "        self.next_node = next_node\n",
    "    \n",
    "    def __getitem__(self, i):\n",
    "        if i==0: return n\n",
    "        if next_node != None: return next_node[i-1]\n",
    "        raise IndexError\n",
    "\n",
    "    def __eq__(self, other):\n",
    "        return self is other"
   ]
  },
  {
   "cell_type": "code",
   "execution_count": 5,
   "metadata": {
    "tags": []
   },
   "outputs": [
    {
     "output_type": "stream",
     "name": "stdout",
     "text": [
      "72772522064\n"
     ]
    }
   ],
   "source": [
    "beginning = [int(c) for c in prog_inp[0]]\n",
    "max_cup = 1000000\n",
    "\n",
    "lookup = dict()\n",
    "current = Node(beginning[0])\n",
    "lookup[current.n] = current\n",
    "prev = current\n",
    "for i in range(1, 1000000 + 1):\n",
    "    if i < len(beginning):\n",
    "        new = Node(beginning[i])\n",
    "    elif i > len(beginning):\n",
    "        new = Node(i)\n",
    "    else:\n",
    "        continue\n",
    "    lookup[new.n] = new\n",
    "    if prev:\n",
    "        prev.next_node = new\n",
    "    prev = new\n",
    "prev.next_node = current # Make the linked list circular\n",
    "\n",
    "def move(current):\n",
    "    next_3 = []\n",
    "    next_3.append(current.next_node)\n",
    "    next_3.append(next_3[-1].next_node)\n",
    "    next_3.append(next_3[-1].next_node)\n",
    "    current.next_node = next_3[-1].next_node\n",
    "\n",
    "    dst = None\n",
    "    dst_value = current.n\n",
    "    while dst == None:\n",
    "        dst_value -= 1\n",
    "        if dst_value == 0: dst_value = max_cup\n",
    "        dst_node = lookup[dst_value]\n",
    "        if not dst_node in next_3:\n",
    "            dst = dst_node\n",
    "    \n",
    "    next_3[-1].next_node = dst.next_node\n",
    "    dst.next_node = next_3[0]\n",
    "\n",
    "    return current.next_node\n",
    "\n",
    "for i in range(10000000):\n",
    "    current = move(current)\n",
    "\n",
    "r1 = lookup[1].next_node\n",
    "r2 = r1.next_node\n",
    "res = r1.n * r2.n\n",
    "print(res)"
   ]
  }
 ]
}