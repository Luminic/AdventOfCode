{
 "metadata": {
  "language_info": {
   "codemirror_mode": {
    "name": "ipython",
    "version": 3
   },
   "file_extension": ".py",
   "mimetype": "text/x-python",
   "name": "python",
   "nbconvert_exporter": "python",
   "pygments_lexer": "ipython3",
   "version": "3.9.1-final"
  },
  "orig_nbformat": 2,
  "kernelspec": {
   "name": "python3",
   "display_name": "Python 3",
   "language": "python"
  }
 },
 "nbformat": 4,
 "nbformat_minor": 2,
 "cells": [
  {
   "cell_type": "code",
   "execution_count": 1,
   "metadata": {},
   "outputs": [],
   "source": [
    "import math\n",
    "import string\n",
    "import time\n",
    "from collections import defaultdict\n",
    "from helpful_functions import *\n",
    "import re\n",
    "import copy"
   ]
  },
  {
   "cell_type": "code",
   "execution_count": 2,
   "metadata": {},
   "outputs": [
    {
     "output_type": "stream",
     "name": "stdout",
     "text": [
      "['......##', '####.#..', '.##....#', '.##.#..#', '........']\n"
     ]
    }
   ],
   "source": [
    "with open(\"day17_input.txt\", \"r\") as f:\n",
    "    prog_inp = f.readlines()\n",
    "\n",
    "prog_inp = [line.rstrip() for line in prog_inp]\n",
    "\n",
    "for i in range(len(prog_inp)-1,-1,-1):\n",
    "    if prog_inp[i] == '': del prog_inp[i]\n",
    "    else: break\n",
    "print(prog_inp[:5])"
   ]
  },
  {
   "cell_type": "code",
   "execution_count": 3,
   "metadata": {},
   "outputs": [
    {
     "output_type": "stream",
     "name": "stdout",
     "text": [
      "defaultdict(<function <lambda> at 0x7f65ac45aa60>, {(6, 0, 0): True, (7, 0, 0): True, (0, 1, 0): True, (1, 1, 0): True, (2, 1, 0): True, (3, 1, 0): True, (5, 1, 0): True, (1, 2, 0): True, (2, 2, 0): True, (7, 2, 0): True, (1, 3, 0): True, (2, 3, 0): True, (4, 3, 0): True, (7, 3, 0): True, (1, 5, 0): True, (3, 5, 0): True, (5, 5, 0): True, (6, 5, 0): True, (7, 5, 0): True, (0, 6, 0): True, (2, 6, 0): True, (3, 6, 0): True, (0, 7, 0): True, (1, 7, 0): True, (2, 7, 0): True, (3, 7, 0): True, (5, 7, 0): True})\n"
     ]
    }
   ],
   "source": [
    "org_board = defaultdict(lambda: False)\n",
    "for y, line in enumerate(prog_inp):\n",
    "    for x, char in enumerate(line):\n",
    "        if char == '#':\n",
    "            org_board[(x, y, 0)] = True\n",
    "\n",
    "print(org_board)"
   ]
  },
  {
   "cell_type": "code",
   "execution_count": 4,
   "metadata": {},
   "outputs": [],
   "source": [
    "def get_neighbors(coords):\n",
    "    for dx in range(-1,2):\n",
    "        for dy in range(-1,2):\n",
    "            for dz in range(-1,2):\n",
    "                if dx == dy == dz == 0:\n",
    "                    continue\n",
    "                yield (coords[0] + dx, coords[1] + dy, coords[2] + dz)\n",
    "\n",
    "def get_new_state(coords, board):\n",
    "    nr_active = 0\n",
    "    for neighbor in get_neighbors(coords):\n",
    "        if board[neighbor] == True:\n",
    "            nr_active += 1\n",
    "    if board[coords] == True:\n",
    "        if nr_active == 2 or nr_active == 3:\n",
    "            return True\n",
    "        return False\n",
    "    else:\n",
    "        if nr_active == 3:\n",
    "            return True\n",
    "        return False"
   ]
  },
  {
   "cell_type": "code",
   "execution_count": 5,
   "metadata": {},
   "outputs": [
    {
     "output_type": "stream",
     "name": "stdout",
     "text": [
      "426\n"
     ]
    }
   ],
   "source": [
    "board = copy.deepcopy(org_board)\n",
    "\n",
    "def move(board):\n",
    "    new_board = copy.deepcopy(board)\n",
    "    cells_in_consideration = set()\n",
    "\n",
    "    # print(cells_in_consideration)\n",
    "\n",
    "    for active_cell in board:\n",
    "        # print(\"active_cell\", active_cell)\n",
    "        if board[active_cell] == False: # Shouldn't happen\n",
    "            print(active_cell)\n",
    "            continue\n",
    "        cells_in_consideration.add(active_cell)\n",
    "        for neighbor in get_neighbors(active_cell):\n",
    "            cells_in_consideration.add(neighbor)\n",
    "\n",
    "    # print(cells_in_consideration)\n",
    "\n",
    "    for cell in cells_in_consideration:\n",
    "        if get_new_state(cell, board):\n",
    "            new_board[cell] = True\n",
    "        else:\n",
    "            if board[cell] == True:\n",
    "                del new_board[cell] # sets to `False` because by default a value not in the dict is `False`\n",
    "    return new_board\n",
    "\n",
    "# print(\"board\", board)\n",
    "for i in range(6):\n",
    "    board = move(board)\n",
    "\n",
    "# print(board)\n",
    "total_active = 0\n",
    "for cell in board:\n",
    "    if board[cell] == True:\n",
    "        total_active += 1\n",
    "    else:\n",
    "        print(cell)\n",
    "print(total_active)"
   ]
  },
  {
   "cell_type": "code",
   "execution_count": null,
   "metadata": {},
   "outputs": [],
   "source": [
    "# Part 2"
   ]
  },
  {
   "cell_type": "code",
   "execution_count": 6,
   "metadata": {},
   "outputs": [
    {
     "output_type": "stream",
     "name": "stdout",
     "text": [
      "defaultdict(<function <lambda> at 0x7f65a48e5ca0>, {(6, 0, 0, 0): True, (7, 0, 0, 0): True, (0, 1, 0, 0): True, (1, 1, 0, 0): True, (2, 1, 0, 0): True, (3, 1, 0, 0): True, (5, 1, 0, 0): True, (1, 2, 0, 0): True, (2, 2, 0, 0): True, (7, 2, 0, 0): True, (1, 3, 0, 0): True, (2, 3, 0, 0): True, (4, 3, 0, 0): True, (7, 3, 0, 0): True, (1, 5, 0, 0): True, (3, 5, 0, 0): True, (5, 5, 0, 0): True, (6, 5, 0, 0): True, (7, 5, 0, 0): True, (0, 6, 0, 0): True, (2, 6, 0, 0): True, (3, 6, 0, 0): True, (0, 7, 0, 0): True, (1, 7, 0, 0): True, (2, 7, 0, 0): True, (3, 7, 0, 0): True, (5, 7, 0, 0): True})\n"
     ]
    }
   ],
   "source": [
    "org_board = defaultdict(lambda: False)\n",
    "for y, line in enumerate(prog_inp):\n",
    "    for x, char in enumerate(line):\n",
    "        if char == '#':\n",
    "            org_board[(x, y, 0, 0)] = True\n",
    "\n",
    "print(org_board)"
   ]
  },
  {
   "cell_type": "code",
   "execution_count": 7,
   "metadata": {},
   "outputs": [],
   "source": [
    "def get_neighbors(coords):\n",
    "    for dx in range(-1,2):\n",
    "        for dy in range(-1,2):\n",
    "            for dz in range(-1,2):\n",
    "                for dw in range(-1,2):\n",
    "                    if dx == dy == dz == dw == 0:\n",
    "                        continue\n",
    "                    yield (coords[0] + dx, coords[1] + dy, coords[2] + dz, coords[3] + dw)\n",
    "\n",
    "def get_new_state(coords, board):\n",
    "    nr_active = 0\n",
    "    for neighbor in get_neighbors(coords):\n",
    "        if board[neighbor] == True:\n",
    "            nr_active += 1\n",
    "    if board[coords] == True:\n",
    "        if nr_active == 2 or nr_active == 3:\n",
    "            return True\n",
    "        return False\n",
    "    else:\n",
    "        if nr_active == 3:\n",
    "            return True\n",
    "        return False"
   ]
  },
  {
   "cell_type": "code",
   "execution_count": 8,
   "metadata": {},
   "outputs": [
    {
     "output_type": "stream",
     "name": "stdout",
     "text": [
      "1892\n"
     ]
    }
   ],
   "source": [
    "board = copy.deepcopy(org_board)\n",
    "\n",
    "def move(board):\n",
    "    new_board = copy.deepcopy(board)\n",
    "    cells_in_consideration = set()\n",
    "\n",
    "    # print(cells_in_consideration)\n",
    "\n",
    "    for active_cell in board:\n",
    "        # print(\"active_cell\", active_cell)\n",
    "        if board[active_cell] == False: # Shouldn't happen\n",
    "            print(active_cell)\n",
    "            continue\n",
    "        cells_in_consideration.add(active_cell)\n",
    "        for neighbor in get_neighbors(active_cell):\n",
    "            cells_in_consideration.add(neighbor)\n",
    "\n",
    "    # print(cells_in_consideration)\n",
    "\n",
    "    for cell in cells_in_consideration:\n",
    "        if get_new_state(cell, board):\n",
    "            new_board[cell] = True\n",
    "        else:\n",
    "            if board[cell] == True:\n",
    "                del new_board[cell] # sets to `False` because by default a value not in the dict is `False`\n",
    "    return new_board\n",
    "\n",
    "# print(\"board\", board)\n",
    "for i in range(6):\n",
    "    board = move(board)\n",
    "\n",
    "# print(board)\n",
    "total_active = 0\n",
    "for cell in board:\n",
    "    if board[cell] == True:\n",
    "        total_active += 1\n",
    "    else:\n",
    "        print(cell)\n",
    "print(total_active)"
   ]
  },
  {
   "cell_type": "code",
   "execution_count": null,
   "metadata": {},
   "outputs": [],
   "source": []
  }
 ]
}