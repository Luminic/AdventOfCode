{
 "metadata": {
  "language_info": {
   "codemirror_mode": {
    "name": "ipython",
    "version": 3
   },
   "file_extension": ".py",
   "mimetype": "text/x-python",
   "name": "python",
   "nbconvert_exporter": "python",
   "pygments_lexer": "ipython3",
   "version": "3.9.1-final"
  },
  "orig_nbformat": 2,
  "kernelspec": {
   "name": "python3",
   "display_name": "Python 3",
   "language": "python"
  }
 },
 "nbformat": 4,
 "nbformat_minor": 2,
 "cells": [
  {
   "cell_type": "code",
   "execution_count": 1,
   "metadata": {},
   "outputs": [],
   "source": [
    "import math\n",
    "import string\n",
    "import time\n",
    "from collections import defaultdict\n",
    "from helpful_functions import *\n",
    "import re\n",
    "import copy\n",
    "import functools"
   ]
  },
  {
   "cell_type": "code",
   "execution_count": 2,
   "metadata": {},
   "outputs": [
    {
     "output_type": "stream",
     "name": "stdout",
     "text": [
      "['Tile 2729:', '.....#####', '##..##.#.#', '......#.##', '#....#.#.#']\n"
     ]
    }
   ],
   "source": [
    "with open(\"day20_input.txt\", \"r\") as f:\n",
    "    prog_inp = f.readlines()\n",
    "\n",
    "prog_inp = [line.rstrip() for line in prog_inp]\n",
    "\n",
    "for i in range(len(prog_inp)-1,-1,-1):\n",
    "    if prog_inp[i] == '': del prog_inp[i]\n",
    "    else: break\n",
    "\n",
    "print(prog_inp[:5])"
   ]
  },
  {
   "cell_type": "code",
   "execution_count": 3,
   "metadata": {},
   "outputs": [
    {
     "output_type": "execute_result",
     "data": {
      "text/plain": [
       "[['.', '.', '.', '.', '.', '#', '#', '#', '#', '#'],\n",
       " ['#', '#', '.', '.', '#', '#', '.', '#', '.', '#'],\n",
       " ['.', '.', '.', '.', '.', '.', '#', '.', '#', '#'],\n",
       " ['#', '.', '.', '.', '.', '#', '.', '#', '.', '#'],\n",
       " ['#', '.', '.', '.', '.', '.', '.', '#', '#', '.'],\n",
       " ['#', '.', '.', '.', '#', '.', '.', '#', '.', '#'],\n",
       " ['#', '.', '.', '.', '.', '.', '.', '.', '.', '.'],\n",
       " ['.', '.', '.', '.', '.', '.', '.', '#', '#', '.'],\n",
       " ['#', '.', '#', '.', '.', '#', '.', '.', '.', '.'],\n",
       " ['#', '.', '#', '.', '#', '#', '#', '.', '.', '#']]"
      ]
     },
     "metadata": {},
     "execution_count": 3
    }
   ],
   "source": [
    "tiles = []\n",
    "index_to_id = dict()\n",
    "for i, tile in enumerate(group_by(prog_inp, '')):\n",
    "    index_to_id[i] = int(tile[0].split(' ')[-1][:-1])\n",
    "    tiles.append([list(l) for l in tile[1:]])\n",
    "\n",
    "tiles[0]"
   ]
  },
  {
   "cell_type": "code",
   "execution_count": 4,
   "metadata": {},
   "outputs": [],
   "source": [
    "# in the format: {side : (index, side_index, is_flipped)}\n",
    "# side index is 0 for top, 1 for right, 2 for bottom, and 3 for left\n",
    "side_to_index = defaultdict(lambda: set())\n",
    "\n",
    "def get_index_from_side(side):\n",
    "    global side_to_index\n",
    "    return side_to_index[tuple(side)]\n",
    "\n",
    "def add_index_for_side(side, side_index, index):\n",
    "    global side_to_index\n",
    "    side_to_index[tuple(side)].add((index, side_index, False))\n",
    "    side_to_index[tuple(side[::-1])].add((index, side_index, True))\n",
    "\n",
    "def get_tile_sides(tile):\n",
    "    return [\n",
    "        tile[0],\n",
    "        [l[-1] for l in tile],\n",
    "        tile[-1][::-1],\n",
    "        [l[0] for l in tile][::-1]\n",
    "    ]\n",
    "\n",
    "def add_index_for_tile(tile, index):\n",
    "    for i, side in enumerate(get_tile_sides(tile)):\n",
    "        add_index_for_side(side, i, index)\n",
    "\n",
    "for i, tile in enumerate(tiles):\n",
    "    add_index_for_tile(tile, i)"
   ]
  },
  {
   "cell_type": "code",
   "execution_count": 5,
   "metadata": {},
   "outputs": [
    {
     "output_type": "stream",
     "name": "stdout",
     "text": [
      "Number (potential) corners found: 4\nmultiplication of corner ids: 2699020245973\n"
     ]
    }
   ],
   "source": [
    "potential_corners = []\n",
    "for i, tile in enumerate(tiles):\n",
    "    nr_shared_sides = 0\n",
    "    for side in get_tile_sides(tile):\n",
    "        if len(get_index_from_side(side)) == 2:\n",
    "            nr_shared_sides += 1\n",
    "    if nr_shared_sides == 2:\n",
    "        potential_corners.append((tile, i))\n",
    "\n",
    "print(\"Number (potential) corners found:\", len(potential_corners))\n",
    "res = 1\n",
    "for corner in potential_corners:\n",
    "    res *= index_to_id[corner[1]]\n",
    "print(\"multiplication of corner ids:\", res)"
   ]
  },
  {
   "cell_type": "code",
   "execution_count": 6,
   "metadata": {},
   "outputs": [],
   "source": [
    "def print_tile(tile):\n",
    "    for row in tile:\n",
    "        print(\"\".join(row))"
   ]
  },
  {
   "cell_type": "code",
   "execution_count": 7,
   "metadata": {},
   "outputs": [],
   "source": [
    "def rotate_tile(tile, n=1):\n",
    "    n = n % 4\n",
    "    if n == 0: return copy.deepcopy(tile)\n",
    "    new_tile = []\n",
    "    for i in range(len(tile[0])-1, -1, -1):\n",
    "        new_tile.append([])\n",
    "        for j in range(len(tile)):\n",
    "            new_tile[-1].append(tile[j][i])\n",
    "    if n > 1:\n",
    "        return rotate_tile(new_tile, n - 1)\n",
    "    return new_tile\n",
    "\n",
    "# Flip over the x axis\n",
    "def yflip_tile(tile):\n",
    "    return tile[::-1]\n",
    "\n",
    "# Flip over the y axis\n",
    "def xflip_tile(tile):\n",
    "    return [l[::-1] for l in tile]\n",
    "\n",
    "test = [[0,1,2,'a'],\n",
    "        [3,4,5,'b'],\n",
    "        [6,7,8,'c']]\n",
    "\n",
    "# r = rotate_tile(test, 3)\n",
    "# r = xflip_tile(test)\n",
    "# for l in r: print(l)"
   ]
  },
  {
   "cell_type": "code",
   "execution_count": 8,
   "metadata": {},
   "outputs": [],
   "source": [
    "top_left_corner = None\n",
    "for corner in potential_corners:\n",
    "    sides = get_tile_sides(corner[0])\n",
    "    if len(get_index_from_side(sides[0])) == 1:\n",
    "        if len(get_index_from_side(sides[3])) == 1:\n",
    "            top_left_corner = corner"
   ]
  },
  {
   "cell_type": "code",
   "execution_count": 9,
   "metadata": {
    "tags": []
   },
   "outputs": [],
   "source": [
    "def get_matching_tile(tile, tile_index, side_index):\n",
    "    tile_side = get_tile_sides(tile)[side_index]\n",
    "    matching_tiles = get_index_from_side(tile_side)\n",
    "\n",
    "    if len(matching_tiles) == 1:\n",
    "        return False\n",
    "    elif len(matching_tiles) > 2:\n",
    "        print(\"too many matches\")\n",
    "    \n",
    "    nr_matches = 0\n",
    "    for matching_tile_data in matching_tiles:\n",
    "        if matching_tile_data[0] != tile_index:\n",
    "            nr_matches += 1\n",
    "            matching_tile_index = matching_tile_data[0]\n",
    "            matching_tile = tiles[matching_tile_data[0]]\n",
    "            matching_tile = rotate_tile(matching_tile, - side_index + matching_tile_data[1] + 2)\n",
    "            # Winding order makes it so the side needs to be flipped if not already\n",
    "            if not matching_tile_data[2]:\n",
    "                if side_index % 2 == 0:\n",
    "                    matching_tile = xflip_tile(matching_tile)\n",
    "                else:\n",
    "                    matching_tile = yflip_tile(matching_tile)\n",
    "\n",
    "    if nr_matches != 1:\n",
    "        print(\"wrong number of matches:\", nr_matches)\n",
    "    if tile_side[::-1] != get_tile_sides(matching_tile)[(side_index+2)%4]:\n",
    "        print(\"tiles don't match\")\n",
    "\n",
    "    return (matching_tile, matching_tile_index)\n",
    "\n",
    "tiled_picture = [[top_left_corner]]\n",
    "for row_i in range(100):\n",
    "    for col_i in range(100):\n",
    "        last_tile = tiled_picture[-1][-1]\n",
    "        next_tile = get_matching_tile(last_tile[0], last_tile[1], 1)\n",
    "        if next_tile == False:\n",
    "            break\n",
    "        tiled_picture[-1].append(next_tile)\n",
    "        # break\n",
    "    # break\n",
    "    \n",
    "    last_tile = tiled_picture[-1][0]\n",
    "    next_tile = get_matching_tile(last_tile[0], last_tile[1], 2)\n",
    "    if next_tile == False:\n",
    "        break\n",
    "    tiled_picture.append([next_tile])\n",
    "\n",
    "picture = []\n",
    "for tile_row in tiled_picture:\n",
    "    for i in range(len(tile_row[0][0])):\n",
    "        if i == 0 or i == len(tile_row[0][0])-1: continue\n",
    "        picture.append([])\n",
    "        for j in range(len(tile_row)):\n",
    "            picture[-1] += tile_row[j][0][i][1:-1]\n",
    "    # # Uncomment to add split characters between the tiles\n",
    "    #         picture[-1].append(' '+str(tile_row[j][1])+' ')\n",
    "    # picture.append([' '])\n",
    "\n",
    "picture = [\"\".join(l) for l in picture]\n",
    "# for line in picture:\n",
    "#     print(line)"
   ]
  },
  {
   "cell_type": "code",
   "execution_count": 10,
   "metadata": {},
   "outputs": [
    {
     "output_type": "stream",
     "name": "stdout",
     "text": [
      "sea choppiness: 2012\n"
     ]
    }
   ],
   "source": [
    "sea_monster = \"\"\"\n",
    "                  # \n",
    "#    ##    ##    ###\n",
    " #  #  #  #  #  #   \n",
    "\"\"\"[1:-1].split('\\n')\n",
    "\n",
    "def find_sea_monsters(picture):\n",
    "    x_size = len(sea_monster[0])\n",
    "    y_size = len(sea_monster)\n",
    "    for xi in range(len(picture[0]) - x_size + 1):\n",
    "        for yi in range(len(picture) - y_size + 1):\n",
    "            matches = True\n",
    "            coordinates = []\n",
    "            for rxi in range(x_size):\n",
    "                for ryi in range(y_size):\n",
    "                    if sea_monster[ryi][rxi] == '#':\n",
    "                        texel = picture[ryi+yi][rxi+xi]\n",
    "                        if texel == '#' or texel == 'O':\n",
    "                            coordinates.append((rxi+xi, ryi+yi))\n",
    "                        else:\n",
    "                            matches = False\n",
    "                            break\n",
    "                if matches == False:\n",
    "                    break\n",
    "            if matches:\n",
    "                for coord in coordinates:\n",
    "                    picture[coord[1]][coord[0]] = 'O'\n",
    "\n",
    "trans_pic = copy.deepcopy(picture)\n",
    "for n in range(4):\n",
    "    trans_pic = rotate_tile(trans_pic, 1)\n",
    "    find_sea_monsters(trans_pic)\n",
    "    trans_pic = yflip_tile(trans_pic)\n",
    "    find_sea_monsters(trans_pic)\n",
    "    trans_pic = yflip_tile(trans_pic)\n",
    "\n",
    "choppiness = 0\n",
    "for line in trans_pic:\n",
    "    choppiness += line.count('#')\n",
    "\n",
    "print(\"sea choppiness:\", choppiness)"
   ]
  },
  {
   "cell_type": "code",
   "execution_count": null,
   "metadata": {},
   "outputs": [],
   "source": []
  }
 ]
}