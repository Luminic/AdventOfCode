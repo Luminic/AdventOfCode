{
 "metadata": {
  "language_info": {
   "codemirror_mode": {
    "name": "ipython",
    "version": 3
   },
   "file_extension": ".py",
   "mimetype": "text/x-python",
   "name": "python",
   "nbconvert_exporter": "python",
   "pygments_lexer": "ipython3",
   "version": "3.9.0-final"
  },
  "orig_nbformat": 2,
  "kernelspec": {
   "name": "python3",
   "display_name": "Python 3",
   "language": "python"
  }
 },
 "nbformat": 4,
 "nbformat_minor": 2,
 "cells": [
  {
   "cell_type": "code",
   "execution_count": 1,
   "metadata": {},
   "outputs": [],
   "source": [
    "import math\n",
    "import string\n",
    "import time\n",
    "from collections import defaultdict\n",
    "from helpful_functions import *"
   ]
  },
  {
   "cell_type": "code",
   "execution_count": 2,
   "metadata": {},
   "outputs": [
    {
     "output_type": "stream",
     "name": "stdout",
     "text": [
      "['66', '7', '73', '162', '62', '165', '157', '158', '137', '125']\n"
     ]
    }
   ],
   "source": [
    "with open(\"day10_input.txt\", \"r\") as f:\n",
    "    prog_inp = f.readlines()\n",
    "\n",
    "prog_inp = [line.rstrip() for line in prog_inp]\n",
    "\n",
    "for i in range(len(prog_inp)-1,-1,-1):\n",
    "    if prog_inp[i] == '': del prog_inp[i]\n",
    "    else: break\n",
    "print(prog_inp[:10])"
   ]
  },
  {
   "cell_type": "code",
   "execution_count": 3,
   "metadata": {},
   "outputs": [
    {
     "output_type": "stream",
     "name": "stdout",
     "text": [
      "[1, 2, 3, 4, 7, 10, 11, 12, 13, 16, 17, 18, 19, 20, 23, 24, 25, 26, 29, 30, 31, 34, 35, 36, 37, 40, 41, 42, 45, 48, 49, 50, 51, 54, 57, 58, 59, 62, 65, 66, 67, 68, 69, 72, 73, 74, 75, 78, 79, 80, 83, 84, 85, 88, 89, 90, 91, 94, 95, 96, 97, 100, 103, 104, 105, 106, 107, 110, 111, 112, 115, 116, 117, 118, 119, 122, 125, 126, 127, 128, 129, 132, 135, 136, 137, 138, 141, 142, 145, 146, 149, 152, 155, 156, 157, 158, 159, 162, 163, 164, 165, 166, 169, 170, 171, 172]\n"
     ]
    }
   ],
   "source": [
    "parsed_inp = []\n",
    "for i, line in enumerate(prog_inp):\n",
    "    parsed_inp.append(int(line))\n",
    "parsed_inp.sort()\n",
    "print(parsed_inp)"
   ]
  },
  {
   "cell_type": "code",
   "execution_count": 4,
   "metadata": {},
   "outputs": [
    {
     "output_type": "stream",
     "name": "stdout",
     "text": [
      "2482\n"
     ]
    }
   ],
   "source": [
    "differences = []\n",
    "current_joltage = 0\n",
    "for i, v in enumerate(parsed_inp):\n",
    "    differences.append(v - current_joltage)\n",
    "    current_joltage = v\n",
    "differences.append(3)\n",
    "print(differences.count(1) * differences.count(3))"
   ]
  },
  {
   "cell_type": "code",
   "execution_count": 5,
   "metadata": {
    "tags": []
   },
   "outputs": [
    {
     "output_type": "stream",
     "name": "stdout",
     "text": [
      "96717311574016\n"
     ]
    }
   ],
   "source": [
    "adapters = parsed_inp[:]\n",
    "cache = dict()\n",
    "def possibilities(current_joltage, prev_index=-1):\n",
    "    if current_joltage in cache:\n",
    "        return cache[current_joltage]\n",
    "\n",
    "    prev_index += 1\n",
    "    running_total = 0\n",
    "    for i in range(3):\n",
    "        if prev_index + i == len(adapters) - 1:\n",
    "            return running_total+1\n",
    "        if 1 <= (diff := adapters[prev_index + i] - current_joltage) <= 3:\n",
    "            running_total += possibilities(current_joltage + diff, prev_index + i)\n",
    "        else:\n",
    "            break\n",
    "    cache[current_joltage] = running_total\n",
    "    return running_total\n",
    "\n",
    "print(possibilities(0))"
   ]
  }
 ]
}