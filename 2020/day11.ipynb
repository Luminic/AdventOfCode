{
 "metadata": {
  "language_info": {
   "codemirror_mode": {
    "name": "ipython",
    "version": 3
   },
   "file_extension": ".py",
   "mimetype": "text/x-python",
   "name": "python",
   "nbconvert_exporter": "python",
   "pygments_lexer": "ipython3",
   "version": "3.9.0-final"
  },
  "orig_nbformat": 2,
  "kernelspec": {
   "name": "python3",
   "display_name": "Python 3",
   "language": "python"
  }
 },
 "nbformat": 4,
 "nbformat_minor": 2,
 "cells": [
  {
   "cell_type": "code",
   "execution_count": 1,
   "metadata": {},
   "outputs": [],
   "source": [
    "import math\n",
    "import string\n",
    "import time\n",
    "import copy\n",
    "from collections import defaultdict\n",
    "from helpful_functions import *"
   ]
  },
  {
   "cell_type": "code",
   "execution_count": 2,
   "metadata": {},
   "outputs": [],
   "source": [
    "with open(\"day11_input.txt\", \"r\") as f:\n",
    "    prog_inp = f.readlines()\n",
    "\n",
    "prog_inp = [line.rstrip() for line in prog_inp]\n",
    "\n",
    "for i in range(len(prog_inp)-1,-1,-1):\n",
    "    if prog_inp[i] == '': del prog_inp[i]\n",
    "    else: break\n",
    "# print(prog_inp[:10])"
   ]
  },
  {
   "cell_type": "code",
   "execution_count": 3,
   "metadata": {
    "tags": []
   },
   "outputs": [],
   "source": [
    "parsed_inp = []\n",
    "for i, line in enumerate(prog_inp):\n",
    "    parsed_inp.append(list(line))\n",
    "# print(parsed_inp)"
   ]
  },
  {
   "cell_type": "code",
   "execution_count": 4,
   "metadata": {
    "tags": []
   },
   "outputs": [
    {
     "output_type": "stream",
     "name": "stdout",
     "text": [
      "2329\n"
     ]
    }
   ],
   "source": [
    "board_dimensions = (len(parsed_inp), len(parsed_inp[0]))\n",
    "\n",
    "def get_adjacent_locations(coordinates, board_dimensions):\n",
    "    possible_locations = []\n",
    "    for i in range(-1, 2):\n",
    "        for j in range(-1, 2):\n",
    "            if i == 0 and j == 0: continue\n",
    "            if (0 <= coordinates[0] + i < board_dimensions[0]) and \\\n",
    "                (0 <= coordinates[1] + j < board_dimensions[1]):\n",
    "                possible_locations.append((\n",
    "                    coordinates[0] + i,\n",
    "                    coordinates[1] + j,\n",
    "                ))\n",
    "    return possible_locations\n",
    "\n",
    "def move(board):\n",
    "    new_board = copy.deepcopy(board)\n",
    "    for i in range(0, board_dimensions[0]):\n",
    "        for j in range(0, board_dimensions[1]):\n",
    "            if board[i][j] == '.': continue\n",
    "            adj_locs = get_adjacent_locations((i,j), board_dimensions)\n",
    "            surrounding_seats = []\n",
    "            for loc in adj_locs:\n",
    "                surrounding_seats.append(board[loc[0]][loc[1]])\n",
    "            \n",
    "            if board[i][j] == 'L':\n",
    "                if surrounding_seats.count('#') == 0:\n",
    "                    new_board[i][j] = '#'\n",
    "            elif board[i][j] == '#':\n",
    "                if surrounding_seats.count('#') >= 4:\n",
    "                    new_board[i][j] = 'L'\n",
    "    return new_board\n",
    "\n",
    "def print_board(board):\n",
    "    for line in board:\n",
    "        print(\"\".join(line))\n",
    "\n",
    "old_board = copy.deepcopy(parsed_inp)\n",
    "while 1:\n",
    "    new_board = move(old_board)\n",
    "    if new_board == old_board:\n",
    "        print(sum([row.count('#') for row in new_board]))\n",
    "        break\n",
    "    (new_board, old_board) = (old_board, new_board)"
   ]
  },
  {
   "cell_type": "code",
   "execution_count": 5,
   "metadata": {},
   "outputs": [
    {
     "output_type": "stream",
     "name": "stdout",
     "text": [
      "2138\n"
     ]
    }
   ],
   "source": [
    "def get_first_seat_in_direction(coordinates, direction, board):\n",
    "    ny = coordinates[0]\n",
    "    nx = coordinates[1]\n",
    "    while 1:\n",
    "        ny += direction[0]\n",
    "        nx += direction[1]\n",
    "        if (0 <= ny < board_dimensions[0]) and \\\n",
    "                (0 <= nx < board_dimensions[1]):\n",
    "            if (res := board[ny][nx]) != '.':\n",
    "                return res\n",
    "        else:\n",
    "            return '.'\n",
    "            \n",
    "directions = [\n",
    "    (-1,-1), (-1, 0), (-1,1),\n",
    "    ( 0,-1),          ( 0,1),\n",
    "    ( 1,-1), ( 1, 0), ( 1,1)\n",
    "]\n",
    "\n",
    "def move2(board):\n",
    "    new_board = copy.deepcopy(board)\n",
    "    for i in range(0, board_dimensions[0]):\n",
    "        for j in range(0, board_dimensions[1]):\n",
    "            if board[i][j] == '.': continue\n",
    "            nr_occupied = 0\n",
    "            # nr_empty = 0\n",
    "            for direction in directions:\n",
    "                seat = get_first_seat_in_direction((i,j), direction, board)\n",
    "                if seat == '#':\n",
    "                    nr_occupied += 1\n",
    "                # elif seat == 'L':\n",
    "                #     nr_empty += 1\n",
    "                    \n",
    "            if board[i][j] == 'L':\n",
    "                if nr_occupied == 0:\n",
    "                    new_board[i][j] = '#'\n",
    "            elif board[i][j] == '#':\n",
    "                if nr_occupied >= 5:\n",
    "                    new_board[i][j] = 'L'\n",
    "    return new_board\n",
    "\n",
    "old_board = copy.deepcopy(parsed_inp)\n",
    "for i in range(1000):\n",
    "    new_board = move2(old_board)\n",
    "    if new_board == old_board:\n",
    "        print(sum([row.count('#') for row in new_board]))\n",
    "        break\n",
    "    (new_board, old_board) = (old_board, new_board)"
   ]
  },
  {
   "cell_type": "code",
   "execution_count": null,
   "metadata": {},
   "outputs": [],
   "source": []
  }
 ]
}