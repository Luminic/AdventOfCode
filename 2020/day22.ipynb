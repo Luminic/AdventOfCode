{
 "metadata": {
  "language_info": {
   "codemirror_mode": {
    "name": "ipython",
    "version": 3
   },
   "file_extension": ".py",
   "mimetype": "text/x-python",
   "name": "python",
   "nbconvert_exporter": "python",
   "pygments_lexer": "ipython3",
   "version": "3.9.1-final"
  },
  "orig_nbformat": 2,
  "kernelspec": {
   "name": "python3",
   "display_name": "Python 3",
   "language": "python"
  }
 },
 "nbformat": 4,
 "nbformat_minor": 2,
 "cells": [
  {
   "cell_type": "code",
   "execution_count": 1,
   "metadata": {},
   "outputs": [],
   "source": [
    "import math\n",
    "import string\n",
    "import time\n",
    "from collections import defaultdict, deque\n",
    "from helpful_functions import *\n",
    "import re\n",
    "import copy\n",
    "import functools\n",
    "import itertools"
   ]
  },
  {
   "cell_type": "code",
   "execution_count": 2,
   "metadata": {},
   "outputs": [
    {
     "output_type": "stream",
     "name": "stdout",
     "text": [
      "['Player 1:', '13', '25', '18', '6']\n"
     ]
    }
   ],
   "source": [
    "with open(\"day22_input.txt\", \"r\") as f:\n",
    "    prog_inp = f.readlines()\n",
    "\n",
    "prog_inp = [line.rstrip() for line in prog_inp]\n",
    "\n",
    "for i in range(len(prog_inp)-1,-1,-1):\n",
    "    if prog_inp[i] == '': del prog_inp[i]\n",
    "    else: break\n",
    "print(prog_inp[:5])"
   ]
  },
  {
   "cell_type": "code",
   "execution_count": 3,
   "metadata": {},
   "outputs": [
    {
     "output_type": "stream",
     "name": "stdout",
     "text": [
      "[deque([13, 25, 18, 6, 42, 8, 37, 27, 44, 38, 10, 28, 50, 5, 16, 47, 30, 29, 39, 21, 2, 4, 12, 35, 32]), deque([20, 14, 46, 34, 7, 26, 15, 43, 36, 49, 11, 23, 31, 48, 1, 19, 45, 22, 24, 40, 41, 17, 33, 9, 3])]\n"
     ]
    }
   ],
   "source": [
    "iplayer_hands = [deque(), deque()]\n",
    "current_player_index = 0\n",
    "for line in prog_inp:\n",
    "    if line:\n",
    "        if \"Player\" in line:\n",
    "            current_player_index = int(line.split(' ')[-1][:-1]) - 1\n",
    "        else:\n",
    "            iplayer_hands[current_player_index].append(int(line))\n",
    "\n",
    "print(iplayer_hands)"
   ]
  },
  {
   "cell_type": "code",
   "execution_count": 4,
   "metadata": {},
   "outputs": [],
   "source": [
    "def get_score(player_hand):\n",
    "    score = 0\n",
    "    for i, card in enumerate(player_hand):\n",
    "        score += (len(player_hand) - i) * card\n",
    "    return score"
   ]
  },
  {
   "cell_type": "code",
   "execution_count": 5,
   "metadata": {},
   "outputs": [
    {
     "output_type": "stream",
     "name": "stdout",
     "text": [
      "Player 1 wins!\nScore: 34566\n"
     ]
    }
   ],
   "source": [
    "player_hands = copy.deepcopy(iplayer_hands)\n",
    "\n",
    "game_round = 1\n",
    "while len(player_hands[0]) > 0 and len(player_hands[1]) > 0:\n",
    "    cards_in_play = [player_hands[0].popleft(), player_hands[1].popleft()]\n",
    "    if cards_in_play[0] > cards_in_play[1]:\n",
    "        player_hands[0].append(cards_in_play[0])\n",
    "        player_hands[0].append(cards_in_play[1])\n",
    "    else:\n",
    "        player_hands[1].append(cards_in_play[1])\n",
    "        player_hands[1].append(cards_in_play[0])\n",
    "    game_round += 1\n",
    "\n",
    "if len(player_hands[0]) > 0:\n",
    "    winning_player = 0\n",
    "else:\n",
    "    winning_player = 1\n",
    "\n",
    "print(f\"Player {winning_player+1} wins!\")\n",
    "\n",
    "score = get_score(player_hands[winning_player])\n",
    "print(f\"Score: {score}\")\n"
   ]
  },
  {
   "cell_type": "code",
   "execution_count": 6,
   "metadata": {
    "tags": []
   },
   "outputs": [
    {
     "output_type": "stream",
     "name": "stdout",
     "text": [
      "Player 1 wins!\nScore: 31854\n"
     ]
    }
   ],
   "source": [
    "def as_hashable(player_hands):\n",
    "    return (tuple(player_hands[0]), tuple(player_hands[1]),)\n",
    "\n",
    "def play(player_hands, depth=0, cache=dict()):\n",
    "    initial_state = as_hashable(player_hands)\n",
    "    if initial_state in cache:\n",
    "        # print(depth, player_hands)\n",
    "        # print(\"cache hit!\")\n",
    "        return cache[initial_state]\n",
    "\n",
    "    game_round = 1\n",
    "    previous_states = set()\n",
    "\n",
    "    while len(player_hands[0]) > 0 and len(player_hands[1]) > 0:\n",
    "        ah = as_hashable(player_hands)\n",
    "        if ah in previous_states:\n",
    "            player_hands[0].popleft()\n",
    "            cache[initial_state] = 0\n",
    "            return 0\n",
    "        else: previous_states.add(ah)\n",
    "\n",
    "        cards_in_play = [player_hands[0].popleft(), player_hands[1].popleft()]\n",
    "        recursive_combat = True\n",
    "        for i in range(2):\n",
    "            if len(player_hands[i]) < cards_in_play[i]:\n",
    "                recursive_combat = False\n",
    "\n",
    "        if recursive_combat:\n",
    "            new_deck = []\n",
    "            for i in range(2):\n",
    "                new_deck.append(deque())\n",
    "                j = 0\n",
    "                for card in player_hands[i]:\n",
    "                    new_deck[-1].append(card)\n",
    "                    j += 1\n",
    "                    if j == cards_in_play[i]:\n",
    "                        break\n",
    "                    elif j >= cards_in_play[i]:\n",
    "                        print('uh oh')\n",
    "            # itertools.isslice(player_hands[0], 0, cards_in_play[0]), player_hands[1][:cards_in_play[1]]\n",
    "            round_winner = play(new_deck, depth+1)\n",
    "        else:\n",
    "            if cards_in_play[0] > cards_in_play[1]:\n",
    "                round_winner = 0\n",
    "            else:\n",
    "                round_winner = 1\n",
    "\n",
    "        if round_winner == 0:\n",
    "            player_hands[0].append(cards_in_play[0])\n",
    "            player_hands[0].append(cards_in_play[1])\n",
    "        else:\n",
    "            player_hands[1].append(cards_in_play[1])\n",
    "            player_hands[1].append(cards_in_play[0])\n",
    "        game_round += 1\n",
    "    \n",
    "\n",
    "    if len(player_hands[0]) > 0:\n",
    "        cache[initial_state] = 0\n",
    "        return 0\n",
    "    cache[initial_state] = 1\n",
    "    return 1\n",
    "\n",
    "player_hands = copy.deepcopy(iplayer_hands)\n",
    "winner = play(player_hands)\n",
    "\n",
    "print(f\"Player {winner+1} wins!\")\n",
    "\n",
    "score = get_score(player_hands[winner])\n",
    "print(f\"Score: {score}\")"
   ]
  },
  {
   "cell_type": "code",
   "execution_count": null,
   "metadata": {},
   "outputs": [],
   "source": []
  }
 ]
}