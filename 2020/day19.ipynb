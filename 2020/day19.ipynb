{
 "metadata": {
  "language_info": {
   "codemirror_mode": {
    "name": "ipython",
    "version": 3
   },
   "file_extension": ".py",
   "mimetype": "text/x-python",
   "name": "python",
   "nbconvert_exporter": "python",
   "pygments_lexer": "ipython3",
   "version": "3.9.1-final"
  },
  "orig_nbformat": 2,
  "kernelspec": {
   "name": "python3",
   "display_name": "Python 3",
   "language": "python"
  }
 },
 "nbformat": 4,
 "nbformat_minor": 2,
 "cells": [
  {
   "cell_type": "code",
   "execution_count": 1,
   "metadata": {},
   "outputs": [],
   "source": [
    "import math\n",
    "import string\n",
    "import time\n",
    "from collections import defaultdict\n",
    "from helpful_functions import *\n",
    "import re\n",
    "import copy\n",
    "import functools"
   ]
  },
  {
   "cell_type": "code",
   "execution_count": 2,
   "metadata": {},
   "outputs": [
    {
     "output_type": "stream",
     "name": "stdout",
     "text": [
      "['17: 72 112 | 71 3', '31: 71 33 | 72 57', '49: 72 110 | 71 45', '37: 71 68 | 72 45', '124: 71 128 | 72 64']\n"
     ]
    }
   ],
   "source": [
    "with open(\"day19_input.txt\", \"r\") as f:\n",
    "    prog_inp = f.readlines()\n",
    "\n",
    "prog_inp = [line.rstrip() for line in prog_inp]\n",
    "\n",
    "for i in range(len(prog_inp)-1,-1,-1):\n",
    "    if prog_inp[i] == '': del prog_inp[i]\n",
    "    else: break\n",
    "print(prog_inp[:5])"
   ]
  },
  {
   "cell_type": "code",
   "execution_count": 3,
   "metadata": {},
   "outputs": [],
   "source": [
    "(rules_unparsed, messages) = group_by(prog_inp, '')\n",
    "# print(rules_unparsed)\n",
    "# print(messages)\n",
    "\n",
    "rules = dict()\n",
    "for r in rules_unparsed:\n",
    "    tmp = r.split(\": \")\n",
    "    rule_name = int(tmp[0])\n",
    "    rule_body = tmp[1]\n",
    "    if 'a' in rule_body or 'b' in rule_body:\n",
    "        rule_body = rule_body[1]\n",
    "    else:\n",
    "        rule_body = tuple(tuple(int(i) for i in o.split(' ')) for o in rule_body.split(\" | \"))\n",
    "    rules[rule_name] = rule_body\n",
    "\n",
    "# reverse_rules_per_rule = defaultdict(lambda: set())\n",
    "# reverse_rules_by_combination = defaultdict(lambda: set())\n",
    "\n",
    "# for k,v in rules.items():\n",
    "#     if type(v) == str:\n",
    "#         reverse_rules_per_rule[v] = k\n",
    "#         reverse_rules_by_combination[v] = k\n",
    "#     else:\n",
    "#         for legal_combination in v:\n",
    "#             reverse_rules_by_combination[tuple(legal_combination)].add(k)\n",
    "#             for sub_rule in legal_combination:\n",
    "#                 reverse_rules_per_rule[sub_rule].add(k)\n",
    "\n",
    "# print(rules)\n",
    "# print(reverse_rules_per_rule)\n",
    "# print(reverse_rules_by_combination)"
   ]
  },
  {
   "cell_type": "code",
   "execution_count": 4,
   "metadata": {},
   "outputs": [],
   "source": [
    "new_rules = copy.deepcopy(rules)\n",
    "new_rules[8] = ((42,), (42, 8,),)\n",
    "new_rules[11] = ((42, 31,), (42, 11, 31,),)"
   ]
  },
  {
   "cell_type": "code",
   "execution_count": 5,
   "metadata": {
    "tags": []
   },
   "outputs": [],
   "source": [
    "# This worked for the test cases but crashed my computer on the\n",
    "# real input because it was too slow/ate too much memory\n",
    "\n",
    "def combine(current_message, i=0, ismain=False):\n",
    "    current_message = copy.deepcopy(current_message)\n",
    "    while i < len(current_message):\n",
    "        if i + 1 < len(current_message):\n",
    "            for new in reverse_rules_by_combination[(current_message[i], current_message[i+1])]:\n",
    "                new_msg = current_message[:i] + [new] + current_message[i+2:]\n",
    "                if combine(new_msg, i-1):\n",
    "                    return True\n",
    "        i += 1\n",
    "    print(current_message)\n",
    "    if current_message == [0]:\n",
    "        return True\n",
    "    return False\n",
    "\n",
    "def is_valid(message):\n",
    "    message = [reverse_rules_per_rule[l] for l in list(message)]\n",
    "    return combine(message, ismain=True)\n",
    "\n",
    "# total_valid = 0\n",
    "# for i, msg in enumerate(messages):\n",
    "#     # if i%20 == 0:\n",
    "#     print(i)\n",
    "#     if is_valid(msg):\n",
    "#         total_valid += 1\n",
    "\n",
    "# print(\"total valid:\", total_valid)"
   ]
  },
  {
   "cell_type": "code",
   "execution_count": 6,
   "metadata": {},
   "outputs": [
    {
     "output_type": "stream",
     "name": "stdout",
     "text": [
      "total: 228\n"
     ]
    }
   ],
   "source": [
    "def break_apart(current_rule, message, offsets, depth=1, use_new_rules=True):\n",
    "    # print(\"|\"*depth, current_rule, message, offsets)\n",
    "    if use_new_rules:\n",
    "        subrules = new_rules[current_rule]\n",
    "    else:\n",
    "        subrules = rules[current_rule]\n",
    "    \n",
    "    # print(\"|\"*depth, subrules)\n",
    "\n",
    "    if type(subrules) == str:\n",
    "        new_offsets = []\n",
    "        for offset in offsets:\n",
    "            if offset < len(message):\n",
    "                if subrules == message[offset]:\n",
    "                    new_offsets.append(offset+1)\n",
    "        if len(new_offsets) == 0:\n",
    "            return False\n",
    "        return new_offsets\n",
    "\n",
    "    new_offsets = []\n",
    "    for i, legal_combination in enumerate(subrules):\n",
    "        potential_offsets = offsets\n",
    "        valid = True\n",
    "        for j, rule in enumerate(legal_combination):\n",
    "            if (potential_offsets := break_apart(rule, message, potential_offsets, depth+1)) == False:\n",
    "                valid = False\n",
    "                break\n",
    "        if valid:\n",
    "            new_offsets += potential_offsets\n",
    "\n",
    "    if len(new_offsets) == 0:\n",
    "        return False\n",
    "    return new_offsets\n",
    "\n",
    "\n",
    "def is_valid(message):\n",
    "    res = break_apart(0, message, [0])\n",
    "    if res == False:\n",
    "        return False\n",
    "    elif len(message) in res:\n",
    "        return True\n",
    "    else:\n",
    "        return False\n",
    "\n",
    "total = 0\n",
    "for msg in messages:\n",
    "    if is_valid(msg):\n",
    "        total += 1\n",
    "\n",
    "print(\"total:\", total)"
   ]
  }
 ]
}