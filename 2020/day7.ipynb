{
 "metadata": {
  "language_info": {
   "codemirror_mode": {
    "name": "ipython",
    "version": 3
   },
   "file_extension": ".py",
   "mimetype": "text/x-python",
   "name": "python",
   "nbconvert_exporter": "python",
   "pygments_lexer": "ipython3",
   "version": "3.9.0-final"
  },
  "orig_nbformat": 2,
  "kernelspec": {
   "name": "python3",
   "display_name": "Python 3"
  }
 },
 "nbformat": 4,
 "nbformat_minor": 2,
 "cells": [
  {
   "cell_type": "code",
   "execution_count": 1,
   "metadata": {},
   "outputs": [],
   "source": [
    "import math\n",
    "import string\n",
    "import time\n",
    "from collections import defaultdict\n",
    "from helpful_functions import *"
   ]
  },
  {
   "cell_type": "code",
   "execution_count": 2,
   "metadata": {},
   "outputs": [
    {
     "output_type": "stream",
     "name": "stdout",
     "text": [
      "['pale chartreuse bags contain 3 faded orange bags.', 'drab gold bags contain 5 dark aqua bags.', 'mirrored magenta bags contain 3 dotted violet bags.', 'posh black bags contain 3 dark lavender bags, 3 mirrored coral bags, 1 dotted chartreuse bag.', 'striped yellow bags contain 5 pale red bags, 2 light lime bags, 5 clear indigo bags.', 'bright aqua bags contain 2 vibrant orange bags, 4 clear lavender bags, 1 pale gray bag.', 'dim silver bags contain 2 bright blue bags, 3 faded olive bags, 1 faded cyan bag.', 'light beige bags contain 2 bright silver bags, 4 vibrant crimson bags.', 'dull cyan bags contain 2 drab beige bags, 3 mirrored turquoise bags, 2 mirrored indigo bags.', 'dark black bags contain 5 dull turquoise bags, 4 faded cyan bags, 4 plaid coral bags.']\n"
     ]
    }
   ],
   "source": [
    "with open(\"day7_input.txt\", \"r\") as f:\n",
    "    prog_inp = f.readlines()\n",
    "\n",
    "prog_inp = [line.rstrip() for line in prog_inp]\n",
    "if prog_inp[-1] == '':\n",
    "    del prog_inp[-1]\n",
    "print(prog_inp[:10])"
   ]
  },
  {
   "cell_type": "code",
   "execution_count": 3,
   "metadata": {},
   "outputs": [],
   "source": [
    "def str_def_dict(dd):\n",
    "    c = \"\".join(group_by(str(dd), lambda v: v in \"}{\", join_as_str=True)[1:-1])\n",
    "    return \"{\" + c + \"}\""
   ]
  },
  {
   "cell_type": "code",
   "execution_count": 4,
   "metadata": {},
   "outputs": [],
   "source": [
    "rules = dict()\n",
    "bags = set()\n",
    "contain_nothing = set()\n",
    "\n",
    "for line in prog_inp:\n",
    "    words = group_by(line, \" \", join_as_str=True)\n",
    "    split_line = group_by(words, lambda word: word == \"contain\" or ',' in word, inclusive=\"front\")\n",
    "    bag = tuple(split_line[0][:-2])\n",
    "    containments = defaultdict(lambda v: 0)\n",
    "    if split_line[1] == ['no', 'other', 'bags.']:\n",
    "        contain_nothing.add(bag)\n",
    "    else:\n",
    "        for contained_bag in split_line[1:]:\n",
    "            containments[tuple(contained_bag[1:-1])] = int(contained_bag[0])\n",
    "        bags.add(bag)\n",
    "    rules[bag] = containments"
   ]
  },
  {
   "cell_type": "code",
   "execution_count": 5,
   "metadata": {
    "tags": []
   },
   "outputs": [
    {
     "output_type": "stream",
     "name": "stdout",
     "text": [
      "('pale', 'chartreuse') : {('faded', 'orange'): 3}\n('drab', 'gold') : {('dark', 'aqua'): 5}\n('mirrored', 'magenta') : {('dotted', 'violet'): 3}\n('posh', 'black') : {('dark', 'lavender'): 3, ('mirrored', 'coral'): 3, ('dotted', 'chartreuse'): 1}\n('striped', 'yellow') : {('pale', 'red'): 5, ('light', 'lime'): 2, ('clear', 'indigo'): 5}\n('bright', 'aqua') : {('vibrant', 'orange'): 2, ('clear', 'lavender'): 4, ('pale', 'gray'): 1}\n('dim', 'silver') : {('bright', 'blue'): 2, ('faded', 'olive'): 3, ('faded', 'cyan'): 1}\n('light', 'beige') : {('bright', 'silver'): 2, ('vibrant', 'crimson'): 4}\n('dull', 'cyan') : {('drab', 'beige'): 2, ('mirrored', 'turquoise'): 3, ('mirrored', 'indigo'): 2}\n('dark', 'black') : {('dull', 'turquoise'): 5, ('faded', 'cyan'): 4, ('plaid', 'coral'): 4}\n"
     ]
    }
   ],
   "source": [
    "parsed = []\n",
    "for (i, key) in enumerate(rules.keys()):\n",
    "    parsed.append(str(key) + ' : ' + str_def_dict(rules[key]))\n",
    "    if i < 10: print(parsed[-1])\n",
    "\n",
    "with open(\"day7_output.txt\", 'w') as f:\n",
    "    f.write(\"\\n\".join(parsed))"
   ]
  },
  {
   "cell_type": "code",
   "execution_count": 6,
   "metadata": {},
   "outputs": [],
   "source": [
    "shiny_gold_bag = ('shiny', 'gold')"
   ]
  },
  {
   "cell_type": "code",
   "execution_count": 7,
   "metadata": {
    "tags": []
   },
   "outputs": [],
   "source": [
    "def count_can_hold_shiny_gold():\n",
    "    can_hold_shiny_gold = set()\n",
    "    cannot_hold_shiny_gold = contain_nothing.copy()\n",
    "    while 1:\n",
    "        found_something = False\n",
    "        for bag in bags:\n",
    "            rule = rules[bag]\n",
    "            needs = rule.keys()\n",
    "\n",
    "            needs_met = True\n",
    "            golds_needed = 0\n",
    "            golds_possible = 0\n",
    "\n",
    "            for need in needs:\n",
    "                if need == shiny_gold_bag:\n",
    "                    golds_needed += rule[need]\n",
    "\n",
    "                elif need in cannot_hold_shiny_gold:\n",
    "                    continue\n",
    "\n",
    "                elif need in can_hold_shiny_gold:\n",
    "                    golds_needed += rule[need]\n",
    "\n",
    "                else:\n",
    "                    needs_met = False\n",
    "                    break\n",
    "\n",
    "            if needs_met:\n",
    "                if golds_needed == 0:\n",
    "                    if not bag in cannot_hold_shiny_gold:\n",
    "                        cannot_hold_shiny_gold.add(bag)\n",
    "                        found_something = True\n",
    "                else:\n",
    "                    if not bag in can_hold_shiny_gold:\n",
    "                        can_hold_shiny_gold.add(bag)\n",
    "                        found_something = True\n",
    "        if found_something == False: return len(can_hold_shiny_gold)"
   ]
  },
  {
   "cell_type": "code",
   "execution_count": 8,
   "metadata": {},
   "outputs": [
    {
     "output_type": "stream",
     "name": "stdout",
     "text": [
      "296 bags can hold a shiny gold bag\nit took 0.005195801258087158 seconds to run\n"
     ]
    }
   ],
   "source": [
    "times = []\n",
    "for i in range(500):\n",
    "    t = time.time()\n",
    "    nr_can_hold_shiny_gold = count_can_hold_shiny_gold()\n",
    "    times.append(time.time() - t)\n",
    "print(f\"{nr_can_hold_shiny_gold} bags can hold a shiny gold bag\")\n",
    "print(f\"it took {sum(times)/len(times)} seconds to run\")"
   ]
  },
  {
   "cell_type": "code",
   "execution_count": 9,
   "metadata": {},
   "outputs": [],
   "source": [
    "def can_hold(bag):\n",
    "    rule = rules[bag]\n",
    "    needs = rule.keys()\n",
    "    if shiny_gold_bag in needs: return True\n",
    "    for need in needs:\n",
    "        if can_hold(need):\n",
    "            return True\n",
    "    return False\n",
    "\n",
    "def count_can_hold_shiny_gold2():\n",
    "    can_hold_shiny_gold = []\n",
    "    for bag in bags:\n",
    "        if can_hold(bag):\n",
    "            can_hold_shiny_gold.append(bag)\n",
    "    return len(can_hold_shiny_gold)"
   ]
  },
  {
   "cell_type": "code",
   "execution_count": 10,
   "metadata": {},
   "outputs": [
    {
     "output_type": "stream",
     "name": "stdout",
     "text": [
      "296 bags can hold a shiny gold bag\nit took 0.03737274169921875 seconds to run\n"
     ]
    }
   ],
   "source": [
    "times = []\n",
    "for i in range(100): # Only 100 runs because its ptryy slow\n",
    "    t = time.time()\n",
    "    nr_can_hold_shiny_gold = count_can_hold_shiny_gold2()\n",
    "    times.append(time.time() - t)\n",
    "print(f\"{nr_can_hold_shiny_gold} bags can hold a shiny gold bag\")\n",
    "print(f\"it took {sum(times)/len(times)} seconds to run\")"
   ]
  },
  {
   "cell_type": "code",
   "execution_count": 11,
   "metadata": {},
   "outputs": [],
   "source": [
    "def can_hold_opt(bag, ch, cnh):\n",
    "    if bag in ch: return True\n",
    "    if bag in cnh: return False\n",
    "    rule = rules[bag]\n",
    "    needs = rule.keys()\n",
    "    if shiny_gold_bag in needs:\n",
    "        ch.add(bag)\n",
    "        return True\n",
    "    for need in needs:\n",
    "        if can_hold_opt(need, ch, cnh):\n",
    "            ch.add(bag)\n",
    "            return True\n",
    "    cnh.add(bag)\n",
    "    return False\n",
    "\n",
    "def count_can_hold_shiny_gold2_opt():\n",
    "    can_hold_shiny_gold = set()\n",
    "    cannot_hold_shiny_gold = set()\n",
    "    for bag in bags:\n",
    "        can_hold_opt(bag, can_hold_shiny_gold, cannot_hold_shiny_gold)\n",
    "    return len(can_hold_shiny_gold)"
   ]
  },
  {
   "cell_type": "code",
   "execution_count": 12,
   "metadata": {},
   "outputs": [
    {
     "output_type": "stream",
     "name": "stdout",
     "text": [
      "296 bags can hold a shiny gold bag\nit took 0.0005048346519470214 seconds to run\n"
     ]
    }
   ],
   "source": [
    "times = []\n",
    "for i in range(500):\n",
    "    t = time.time()\n",
    "    nr_can_hold_shiny_gold = count_can_hold_shiny_gold2_opt()\n",
    "    times.append(time.time() - t)\n",
    "print(f\"{nr_can_hold_shiny_gold} bags can hold a shiny gold bag\")\n",
    "print(f\"it took {sum(times)/len(times)} seconds to run\")"
   ]
  },
  {
   "cell_type": "code",
   "execution_count": 13,
   "metadata": {},
   "outputs": [],
   "source": [
    "# Part 2:"
   ]
  },
  {
   "cell_type": "code",
   "execution_count": 14,
   "metadata": {},
   "outputs": [],
   "source": [
    "def bags_inside(bag):\n",
    "    rule = rules[bag]\n",
    "    needs = rule.keys()\n",
    "    assert not shiny_gold_bag in needs, \"infinite recursion\"\n",
    "\n",
    "    count = 0\n",
    "    for need in needs:\n",
    "        if need in contain_nothing:\n",
    "            count += rule[need]\n",
    "        else:\n",
    "            count += (bags_inside(need) + 1) * rule[need]\n",
    "    return count"
   ]
  },
  {
   "cell_type": "code",
   "execution_count": 15,
   "metadata": {},
   "outputs": [
    {
     "output_type": "stream",
     "name": "stdout",
     "text": [
      "There must be 9339 bags inside a shiny gold bag\nit took 1.678466796875e-05 seconds to run\n"
     ]
    }
   ],
   "source": [
    "times = []\n",
    "for i in range(1000):\n",
    "    t = time.time()\n",
    "    nr_bags_inside = bags_inside(shiny_gold_bag)\n",
    "    times.append(time.time() - t)\n",
    "print(f\"There must be {nr_bags_inside} bags inside a shiny gold bag\")\n",
    "print(f\"it took {sum(times)/len(times)} seconds to run\")"
   ]
  },
  {
   "cell_type": "code",
   "execution_count": 16,
   "metadata": {},
   "outputs": [],
   "source": [
    "def bags_inside2(bag, cache=dict()):\n",
    "    if bag in cache: return cache[bag]\n",
    "    rule = rules[bag]\n",
    "    needs = rule.keys()\n",
    "    assert not shiny_gold_bag in needs, \"infinite recursion\"\n",
    "\n",
    "    count = 0\n",
    "    for need in needs:\n",
    "        if need in contain_nothing:\n",
    "            count += rule[need]\n",
    "        else:\n",
    "            count += (bags_inside2(need, cache) + 1) * rule[need]\n",
    "    cache[bag] = count\n",
    "    return count"
   ]
  },
  {
   "cell_type": "code",
   "execution_count": 17,
   "metadata": {},
   "outputs": [
    {
     "output_type": "stream",
     "name": "stdout",
     "text": [
      "There must be 9339 bags inside a shiny gold bag\nit took 3.1638145446777343e-07 seconds to run\n"
     ]
    }
   ],
   "source": [
    "times = []\n",
    "for i in range(1000):\n",
    "    t = time.time()\n",
    "    nr_bags_inside = bags_inside2(shiny_gold_bag)\n",
    "    times.append(time.time() - t)\n",
    "print(f\"There must be {nr_bags_inside} bags inside a shiny gold bag\")\n",
    "print(f\"it took {sum(times)/len(times)} seconds to run\")"
   ]
  },
  {
   "cell_type": "code",
   "execution_count": null,
   "metadata": {},
   "outputs": [],
   "source": []
  }
 ]
}