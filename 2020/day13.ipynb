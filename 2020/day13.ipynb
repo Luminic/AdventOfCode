{
 "metadata": {
  "language_info": {
   "codemirror_mode": {
    "name": "ipython",
    "version": 3
   },
   "file_extension": ".py",
   "mimetype": "text/x-python",
   "name": "python",
   "nbconvert_exporter": "python",
   "pygments_lexer": "ipython3",
   "version": "3.9.0-final"
  },
  "orig_nbformat": 2,
  "kernelspec": {
   "name": "python3",
   "display_name": "Python 3",
   "language": "python"
  }
 },
 "nbformat": 4,
 "nbformat_minor": 2,
 "cells": [
  {
   "cell_type": "code",
   "execution_count": 1,
   "metadata": {},
   "outputs": [],
   "source": [
    "import math\n",
    "import string\n",
    "import time\n",
    "from collections import defaultdict\n",
    "from helpful_functions import *\n",
    "import functools"
   ]
  },
  {
   "cell_type": "code",
   "execution_count": 2,
   "metadata": {},
   "outputs": [
    {
     "output_type": "stream",
     "name": "stdout",
     "text": [
      "['1000677', '29,x,x,x,x,x,x,x,x,x,x,x,x,x,x,x,x,x,x,41,x,x,x,x,x,x,x,x,x,661,x,x,x,x,x,x,x,x,x,x,x,x,13,17,x,x,x,x,x,x,x,x,23,x,x,x,x,x,x,x,521,x,x,x,x,x,37,x,x,x,x,x,x,x,x,x,x,x,x,19']\n"
     ]
    }
   ],
   "source": [
    "with open(\"day13_input.txt\", \"r\") as f:\n",
    "    prog_inp = f.readlines()\n",
    "\n",
    "prog_inp = [line.rstrip() for line in prog_inp]\n",
    "\n",
    "for i in range(len(prog_inp)-1,-1,-1):\n",
    "    if prog_inp[i] == '': del prog_inp[i]\n",
    "    else: break\n",
    "print(prog_inp)"
   ]
  },
  {
   "cell_type": "code",
   "execution_count": 3,
   "metadata": {},
   "outputs": [
    {
     "output_type": "stream",
     "name": "stdout",
     "text": [
      "1000677\n[29, 41, 661, 13, 17, 23, 521, 37, 19]\n"
     ]
    }
   ],
   "source": [
    "ep_depart_time = int(prog_inp[0])\n",
    "bus_ids = [int(v) for v in prog_inp[1].split(',') if v != 'x']\n",
    "\n",
    "print(ep_depart_time)\n",
    "print(bus_ids)"
   ]
  },
  {
   "cell_type": "code",
   "execution_count": 4,
   "metadata": {},
   "outputs": [
    {
     "output_type": "stream",
     "name": "stdout",
     "text": [
      "23 1000684\n161\n"
     ]
    }
   ],
   "source": [
    "earliest_bus = None\n",
    "earliest_time = -1\n",
    "for bid in bus_ids:\n",
    "    bdt = math.ceil(ep_depart_time / bid) * bid\n",
    "    if earliest_bus == None or earliest_time > bdt:\n",
    "        earliest_bus = bid\n",
    "        earliest_time = bdt\n",
    "\n",
    "print(earliest_bus, earliest_time)\n",
    "print(earliest_bus * (earliest_time - ep_depart_time))"
   ]
  },
  {
   "cell_type": "code",
   "execution_count": 5,
   "metadata": {},
   "outputs": [
    {
     "output_type": "stream",
     "name": "stdout",
     "text": [
      "[(29, 0), (41, 19), (661, 29), (13, 42), (17, 43), (23, 52), (521, 60), (37, 66), (19, 79)]\n"
     ]
    }
   ],
   "source": [
    "bus_dts = [(int(v), i) for i, v in enumerate(prog_inp[1].split(',')) if v != 'x']\n",
    "print(bus_dts)"
   ]
  },
  {
   "cell_type": "code",
   "execution_count": 6,
   "metadata": {},
   "outputs": [],
   "source": [
    "def smallest_departure_time(a, b):\n",
    "    \"\"\"\n",
    "    (17, 0), (13, 2)\n",
    "    return (221, 119) or (221, -102)\n",
    "\n",
    "    n = a[0]*x - a[1]\n",
    "    n = b[0]*y - b[1]\n",
    "    for x,y e Z\n",
    "    \n",
    "    y = (a[0]*x - a[1] + b[1]) / b[0]\n",
    "    \"\"\"\n",
    "    for x in range(1000000000):\n",
    "        y_r = (a[0]*x - a[1] + b[1]) % b[0]\n",
    "        if y_r == 0:\n",
    "            n = a[0]*x - a[1]\n",
    "            n_modulus = a[0]*b[0]\n",
    "            return (n_modulus, -n)\n"
   ]
  },
  {
   "cell_type": "code",
   "execution_count": 7,
   "metadata": {},
   "outputs": [
    {
     "output_type": "stream",
     "name": "stdout",
     "text": [
      "213890632230818\n"
     ]
    }
   ],
   "source": [
    "n = bus_dts[0]\n",
    "for i in range(1, len(bus_dts)):\n",
    "    n = smallest_departure_time(n, bus_dts[i])\n",
    "\n",
    "print(-n[1])"
   ]
  }
 ]
}