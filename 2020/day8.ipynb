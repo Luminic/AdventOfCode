{
 "metadata": {
  "language_info": {
   "codemirror_mode": {
    "name": "ipython",
    "version": 3
   },
   "file_extension": ".py",
   "mimetype": "text/x-python",
   "name": "python",
   "nbconvert_exporter": "python",
   "pygments_lexer": "ipython3",
   "version": "3.9.0-final"
  },
  "orig_nbformat": 2,
  "kernelspec": {
   "name": "python3",
   "display_name": "Python 3"
  }
 },
 "nbformat": 4,
 "nbformat_minor": 2,
 "cells": [
  {
   "cell_type": "code",
   "execution_count": 1,
   "metadata": {},
   "outputs": [
    {
     "output_type": "stream",
     "name": "stdout",
     "text": [
      "['acc +28', 'jmp +481', 'nop +87', 'acc -10', 'acc +21', 'jmp +548', 'jmp +250', 'acc -9', 'acc +19', 'acc -3']\n"
     ]
    }
   ],
   "source": [
    "with open(\"day8_input.txt\", \"r\") as f:\n",
    "    prog_inp = f.readlines()\n",
    "\n",
    "prog_inp = [line.rstrip() for line in prog_inp]\n",
    "if prog_inp[-1] == '':\n",
    "    del prog_inp[-1]\n",
    "print(prog_inp[:10])"
   ]
  },
  {
   "cell_type": "code",
   "execution_count": 2,
   "metadata": {},
   "outputs": [
    {
     "output_type": "stream",
     "name": "stdout",
     "text": [
      "[['acc', 28, 0], ['jmp', 481, 0], ['nop', 87, 0], ['acc', -10, 0], ['acc', 21, 0]]\n"
     ]
    }
   ],
   "source": [
    "prog = []\n",
    "for i, line in enumerate(prog_inp):\n",
    "    parsed = line.split(' ')\n",
    "    prog.append([parsed[0], int(parsed[1]),0])\n",
    "print(prog[:5])"
   ]
  },
  {
   "cell_type": "code",
   "execution_count": 3,
   "metadata": {
    "tags": []
   },
   "outputs": [
    {
     "output_type": "stream",
     "name": "stdout",
     "text": [
      "Changed line: 265 from jmp to nop\nFinal acc: 1056\n"
     ]
    }
   ],
   "source": [
    "def run():\n",
    "    for i in range(len(prog)):\n",
    "        prog[i][2] = 0\n",
    "\n",
    "    acc = 0\n",
    "    line_nr = 0\n",
    "    while 1:\n",
    "        prog[line_nr][2] += 1\n",
    "        if prog[line_nr][2] == 2:\n",
    "            return (acc, False)\n",
    "        elif prog[line_nr][0] == 'acc':\n",
    "            acc += prog[line_nr][1]\n",
    "            line_nr += 1\n",
    "        elif prog[line_nr][0] == 'jmp':\n",
    "            line_nr += prog[line_nr][1]\n",
    "        else:\n",
    "            line_nr += 1\n",
    "        if line_nr >= len(prog):\n",
    "            return (acc, True)\n",
    "\n",
    "# print(prog)\n",
    "for (i, line) in enumerate(prog):\n",
    "    # print(i)\n",
    "    prev_value = line[0]\n",
    "    if prev_value == 'nop': other_value = 'jmp'\n",
    "    elif prev_value == 'jmp': other_value = 'nop'\n",
    "    else: continue\n",
    "    prog[i][0] = other_value\n",
    "    res = run()\n",
    "    prog[i][0] = prev_value\n",
    "    if res[1] != False:\n",
    "        print(f\"Changed line: {i} from {prev_value} to {other_value}\")\n",
    "        print(f\"Final acc: {res[0]}\")\n",
    "        break"
   ]
  },
  {
   "cell_type": "code",
   "execution_count": null,
   "metadata": {},
   "outputs": [],
   "source": []
  }
 ]
}