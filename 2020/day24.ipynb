{
 "metadata": {
  "language_info": {
   "codemirror_mode": {
    "name": "ipython",
    "version": 3
   },
   "file_extension": ".py",
   "mimetype": "text/x-python",
   "name": "python",
   "nbconvert_exporter": "python",
   "pygments_lexer": "ipython3",
   "version": "3.9.1-final"
  },
  "orig_nbformat": 2,
  "kernelspec": {
   "name": "python3",
   "display_name": "Python 3",
   "language": "python"
  }
 },
 "nbformat": 4,
 "nbformat_minor": 2,
 "cells": [
  {
   "cell_type": "code",
   "execution_count": 1,
   "metadata": {},
   "outputs": [],
   "source": [
    "import math\n",
    "import string\n",
    "import time\n",
    "from collections import defaultdict\n",
    "from helpful_functions import *\n",
    "import re\n",
    "import copy\n",
    "import functools"
   ]
  },
  {
   "cell_type": "code",
   "execution_count": 2,
   "metadata": {},
   "outputs": [
    {
     "output_type": "stream",
     "name": "stdout",
     "text": [
      "['nwnwesenenewnwswnwweewswwweswwsew', 'wswnewwwwwwwswswseswswswwwwesw', 'eeneeeeseswenweeswneneeneeneene', 'nwnwnwnwnwnwnwnwnwnwsenwnwnwnwnwnwwenwnw', 'swneswnwneseswenwnwnwwseneneswnenenene']\n"
     ]
    }
   ],
   "source": [
    "with open(\"day24_input.txt\", \"r\") as f:\n",
    "    prog_inp = f.readlines()\n",
    "\n",
    "prog_inp = [line.rstrip() for line in prog_inp]\n",
    "\n",
    "for i in range(len(prog_inp)-1,-1,-1):\n",
    "    if prog_inp[i] == '': del prog_inp[i]\n",
    "    else: break\n",
    "print(prog_inp[:5])"
   ]
  },
  {
   "cell_type": "code",
   "execution_count": 3,
   "metadata": {},
   "outputs": [
    {
     "output_type": "stream",
     "name": "stdout",
     "text": [
      "549\n"
     ]
    }
   ],
   "source": [
    "board = defaultdict(lambda: False) # False is white; True is black\n",
    "for tile_instructions in prog_inp:\n",
    "    instructions = group_by(tile_instructions, lambda c: c in \"ew\", join_as_str=True, inclusive=\"front\")\n",
    "    instructions = [i for i in instructions if len(i)]\n",
    "    coordinates = [0,0]\n",
    "    for instruction in instructions:\n",
    "        if instruction == 'e': coordinates[0] += 2\n",
    "        elif instruction == 'w': coordinates[0] -= 2\n",
    "        else:\n",
    "            if 'e' in instruction: coordinates[0] += 1\n",
    "            elif 'w' in instruction: coordinates[0] -= 1\n",
    "            if 'n' in instruction: coordinates[1] += 1\n",
    "            elif 's' in instruction: coordinates[1] -= 1\n",
    "    coordinates = tuple(coordinates)\n",
    "    if board[coordinates]:\n",
    "        del board[coordinates]\n",
    "    else:\n",
    "        board[coordinates] = True\n",
    "\n",
    "nr_black = 0\n",
    "for tile in board:\n",
    "    if board[tile] == True:\n",
    "        nr_black += 1\n",
    "print(nr_black)"
   ]
  },
  {
   "cell_type": "code",
   "execution_count": 4,
   "metadata": {
    "tags": []
   },
   "outputs": [
    {
     "output_type": "stream",
     "name": "stdout",
     "text": [
      "4147\n"
     ]
    }
   ],
   "source": [
    "def get_neighbors(tile):\n",
    "    return {\n",
    "        (tile[0]+2, tile[1]+0),\n",
    "        (tile[0]-2, tile[1]+0),\n",
    "        (tile[0]+1, tile[1]+1),\n",
    "        (tile[0]+1, tile[1]-1),\n",
    "        (tile[0]-1, tile[1]+1),\n",
    "        (tile[0]-1, tile[1]-1),\n",
    "    }\n",
    "\n",
    "def move(board):\n",
    "    board = copy.deepcopy(board)\n",
    "    new_board = copy.deepcopy(board)\n",
    "    tiles_in_consideration = set()\n",
    "    for tile in board:\n",
    "        tiles_in_consideration.add(tile)\n",
    "        tiles_in_consideration.update(get_neighbors(tile))\n",
    "\n",
    "    for tile in tiles_in_consideration:\n",
    "        adjacent = 0\n",
    "        tile_neighbors = get_neighbors(tile)\n",
    "        for neighbor in tile_neighbors:\n",
    "            if board[neighbor]:\n",
    "                adjacent += 1\n",
    "\n",
    "        if board[tile]: # black\n",
    "            if adjacent == 0 or adjacent > 2:\n",
    "                del new_board[tile]\n",
    "        else:\n",
    "            if adjacent == 2:\n",
    "                new_board[tile] = True\n",
    "    return new_board\n",
    "\n",
    "current_board = copy.deepcopy(board)\n",
    "\n",
    "for i in range(100):\n",
    "    current_board = move(current_board)\n",
    "print(len(current_board))"
   ]
  },
  {
   "cell_type": "code",
   "execution_count": null,
   "metadata": {},
   "outputs": [],
   "source": []
  }
 ]
}