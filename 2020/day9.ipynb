{
 "metadata": {
  "language_info": {
   "codemirror_mode": {
    "name": "ipython",
    "version": 3
   },
   "file_extension": ".py",
   "mimetype": "text/x-python",
   "name": "python",
   "nbconvert_exporter": "python",
   "pygments_lexer": "ipython3",
   "version": "3.9.0-final"
  },
  "orig_nbformat": 2,
  "kernelspec": {
   "name": "python3",
   "display_name": "Python 3"
  }
 },
 "nbformat": 4,
 "nbformat_minor": 2,
 "cells": [
  {
   "cell_type": "code",
   "execution_count": 1,
   "metadata": {},
   "outputs": [
    {
     "output_type": "stream",
     "name": "stdout",
     "text": [
      "['14', '39', '44', '32', '47', '15', '16', '42', '35', '41']\n"
     ]
    }
   ],
   "source": [
    "with open(\"day9_input.txt\", \"r\") as f:\n",
    "    prog_inp = f.readlines()\n",
    "\n",
    "prog_inp = [line.rstrip() for line in prog_inp]\n",
    "if prog_inp[-1] == '':\n",
    "    del prog_inp[-1]\n",
    "print(prog_inp[:10])"
   ]
  },
  {
   "cell_type": "code",
   "execution_count": 2,
   "metadata": {},
   "outputs": [
    {
     "output_type": "stream",
     "name": "stdout",
     "text": [
      "[14, 39, 44, 32, 47, 15, 16, 42, 35, 41]\n"
     ]
    }
   ],
   "source": [
    "parsed_inp = []\n",
    "for i, line in enumerate(prog_inp):\n",
    "    parsed_inp.append(int(line))\n",
    "print(parsed_inp[:10])"
   ]
  },
  {
   "cell_type": "code",
   "execution_count": 3,
   "metadata": {},
   "outputs": [
    {
     "output_type": "stream",
     "name": "stdout",
     "text": [
      "22477624 at index 528\n"
     ]
    }
   ],
   "source": [
    "preamble = 25\n",
    "\n",
    "def is_sum(n, prev_25):\n",
    "    assert len(prev_25) == preamble\n",
    "    for i in range(len(prev_25)-1):\n",
    "        for j in range(i+1, len(prev_25)):\n",
    "            if prev_25[i] + prev_25[j] == n:\n",
    "                return True\n",
    "    return False\n",
    "\n",
    "first_inv_num_index = None\n",
    "first_inv_num = None\n",
    "for i in range(preamble, len(parsed_inp)):\n",
    "    # print(i, parsed_inp[i])\n",
    "    if not is_sum(parsed_inp[i], parsed_inp[max(i-preamble, 0):i]):\n",
    "        # print(i, parsed_inp[i], parsed_inp[max(i-preamble, 0):i])\n",
    "        first_inv_num = parsed_inp[i]\n",
    "        first_inv_num_index = i\n",
    "        break\n",
    "print(first_inv_num, \"at index\", first_inv_num_index)"
   ]
  },
  {
   "cell_type": "code",
   "execution_count": 4,
   "metadata": {},
   "outputs": [
    {
     "output_type": "stream",
     "name": "stdout",
     "text": [
      "weakness: 2980044\n"
     ]
    }
   ],
   "source": [
    "running_sum = 0\n",
    "min_i = 0\n",
    "for i in range(first_inv_num_index):\n",
    "    running_sum += parsed_inp[i]\n",
    "    while running_sum > first_inv_num:\n",
    "        running_sum -= parsed_inp[min_i]\n",
    "        min_i += 1\n",
    "    if running_sum == first_inv_num:\n",
    "        res_range = parsed_inp[min_i:i+1]\n",
    "        print(\"weakness:\", min(res_range)+max(res_range))\n",
    "        break"
   ]
  }
 ]
}