{
 "metadata": {
  "language_info": {
   "codemirror_mode": {
    "name": "ipython",
    "version": 3
   },
   "file_extension": ".py",
   "mimetype": "text/x-python",
   "name": "python",
   "nbconvert_exporter": "python",
   "pygments_lexer": "ipython3",
   "version": "3.9.1-final"
  },
  "orig_nbformat": 2,
  "kernelspec": {
   "name": "python3",
   "display_name": "Python 3",
   "language": "python"
  }
 },
 "nbformat": 4,
 "nbformat_minor": 2,
 "cells": [
  {
   "cell_type": "code",
   "execution_count": 1,
   "metadata": {},
   "outputs": [],
   "source": [
    "import math\n",
    "import string\n",
    "import time\n",
    "from collections import defaultdict\n",
    "from helpful_functions import *\n",
    "import re\n",
    "import copy\n",
    "import functools"
   ]
  },
  {
   "cell_type": "code",
   "execution_count": 2,
   "metadata": {},
   "outputs": [
    {
     "output_type": "stream",
     "name": "stdout",
     "text": [
      "['13316116', '13651422', '', '', '']\n"
     ]
    }
   ],
   "source": [
    "with open(\"day25_input.txt\", \"r\") as f:\n",
    "    prog_inp = f.readlines()\n",
    "\n",
    "prog_inp = [line.rstrip() for line in prog_inp]\n",
    "\n",
    "for i in range(len(prog_inp)-1,-1,-1):\n",
    "    if prog_inp[i] == '': del prog_inp[i]\n",
    "    else: break\n",
    "print(prog_inp[:5])"
   ]
  },
  {
   "cell_type": "code",
   "execution_count": 3,
   "metadata": {},
   "outputs": [
    {
     "output_type": "stream",
     "name": "stdout",
     "text": [
      "620544\n3539147\n"
     ]
    }
   ],
   "source": [
    "card_public_key = int(prog_inp[0])\n",
    "door_public_key = int(prog_inp[1])\n",
    "\n",
    "subject_number = 7\n",
    "\n",
    "def transform(current_transform, subject_number):\n",
    "    return (current_transform * subject_number) % 20201227\n",
    "\n",
    "def get_loop_size(subject_number, public_key):\n",
    "    loop_size = 1\n",
    "    current_transform = 1\n",
    "    while 1:\n",
    "        current_transform = transform(current_transform, subject_number)\n",
    "        if current_transform == public_key:\n",
    "            return loop_size\n",
    "        loop_size += 1\n",
    "\n",
    "card_loop_size = get_loop_size(subject_number, card_public_key)\n",
    "door_loop_size = get_loop_size(subject_number, door_public_key)\n",
    "\n",
    "print(card_loop_size)\n",
    "print(door_loop_size)"
   ]
  },
  {
   "cell_type": "code",
   "execution_count": 4,
   "metadata": {},
   "outputs": [
    {
     "output_type": "stream",
     "name": "stdout",
     "text": [
      "12929\n12929\n"
     ]
    }
   ],
   "source": [
    "def transform_n(subject_number, n):\n",
    "    current_transform = 1\n",
    "    for i in range(n):\n",
    "        current_transform = transform(current_transform, subject_number)\n",
    "    return current_transform\n",
    "\n",
    "print(transform_n(card_public_key, door_loop_size))\n",
    "print(transform_n(door_public_key, card_loop_size))"
   ]
  }
 ]
}