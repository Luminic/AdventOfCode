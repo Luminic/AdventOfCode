{
 "metadata": {
  "language_info": {
   "codemirror_mode": {
    "name": "ipython",
    "version": 3
   },
   "file_extension": ".py",
   "mimetype": "text/x-python",
   "name": "python",
   "nbconvert_exporter": "python",
   "pygments_lexer": "ipython3",
   "version": "3.9.0-final"
  },
  "orig_nbformat": 2,
  "kernelspec": {
   "name": "python3",
   "display_name": "Python 3"
  }
 },
 "nbformat": 4,
 "nbformat_minor": 2,
 "cells": [
  {
   "cell_type": "code",
   "execution_count": 1,
   "metadata": {},
   "outputs": [],
   "source": [
    "import math\n",
    "import string"
   ]
  },
  {
   "cell_type": "code",
   "execution_count": 2,
   "metadata": {},
   "outputs": [
    {
     "output_type": "stream",
     "name": "stdout",
     "text": [
      "['BBFBFFBRLL', 'FBFBFFBRRR', 'BBBFBFFLLR', 'BFBBFFBRRL', 'BBFFBBBRRL', 'BFFFFFBLRR', 'FBBBFBFLLL', 'FBBFBFFLRR', 'FBFFFFBRLR', 'FBFBFBFLRL']\n"
     ]
    }
   ],
   "source": [
    "prog_inp = \"\"\n",
    "with open(\"day5_input.txt\", \"r\") as f:\n",
    "    prog_inp = f.readlines()\n",
    "\n",
    "prog_inp = [line.rstrip() for line in prog_inp if line != \"\\n\"]\n",
    "print(prog_inp[:10])"
   ]
  },
  {
   "cell_type": "code",
   "execution_count": 3,
   "metadata": {},
   "outputs": [
    {
     "output_type": "stream",
     "name": "stdout",
     "text": [
      "['BBFBFFBRLL', 'FBFBFFBRRR', 'BBBFBFFLLR', 'BFBBFFBRRL', 'BBFFBBBRRL', 'BFFFFFBLRR', 'FBBBFBFLLL', 'FBBFBFFLRR', 'FBFFFFBRLR', 'FBFBFBFLRL']\n"
     ]
    }
   ],
   "source": [
    "parsed_prog_inp = []\n",
    "for i, line in enumerate(prog_inp):\n",
    "    parsed_line = line[:]\n",
    "    parsed_prog_inp.append(parsed_line)\n",
    "print(prog_inp[:10])"
   ]
  },
  {
   "cell_type": "code",
   "execution_count": 4,
   "metadata": {},
   "outputs": [
    {
     "output_type": "stream",
     "name": "stdout",
     "text": [
      "max_id: 933\nmy_id: 711\n"
     ]
    }
   ],
   "source": [
    "def lower_half(current_range):\n",
    "    halfway_point = (current_range[1] + current_range[0]) / 2\n",
    "    return [current_range[0], math.floor(halfway_point)]\n",
    "\n",
    "def upper_half(current_range):\n",
    "    halfway_point = (current_range[1] + current_range[0]) / 2\n",
    "    return [math.ceil(halfway_point), current_range[1]]\n",
    "\n",
    "def get_seat_location(boarding_pass):\n",
    "    row_range = [0, 127]\n",
    "    for i in range(7):\n",
    "        if boarding_pass[i] == 'F':\n",
    "            row_range = lower_half(row_range)\n",
    "        elif boarding_pass[i] == 'B':\n",
    "            row_range = upper_half(row_range)\n",
    "        else:\n",
    "            raise IndexError\n",
    "\n",
    "    if (row_range[0] != row_range[1]): print(f\"invalid row for: {boarding_pass}: {row_range[0]}, {row_range[1]}\")\n",
    "    row = row_range[0]\n",
    "    \n",
    "    col_range = [0, 7]\n",
    "    for i in range(7, 10):\n",
    "        if boarding_pass[i] == 'L':\n",
    "            col_range = lower_half(col_range)\n",
    "        elif boarding_pass[i] == 'R':\n",
    "            col_range = upper_half(col_range)\n",
    "        else:\n",
    "            raise IndexError\n",
    "    \n",
    "    if (col_range[0] != col_range[1]): print(f\"invalid column for: {boarding_pass}: {col_range[0]}, {col_range[1]}\")\n",
    "    column = col_range[0]\n",
    "\n",
    "    return (row, column)\n",
    "\n",
    "def get_seat_id(location):\n",
    "    return location[0]*8 + location[1]\n",
    "\n",
    "max_id = 0\n",
    "ids_in_list = set()\n",
    "for bp in parsed_prog_inp:\n",
    "    sid = get_seat_id(get_seat_location(bp))\n",
    "    ids_in_list.add(sid)\n",
    "    max_id = max(max_id, sid)\n",
    "\n",
    "my_id = -1\n",
    "for possible_id in range(1, max_id-1):\n",
    "    if (possible_id+1 in ids_in_list) and (possible_id-1 in ids_in_list) and not (possible_id in ids_in_list):\n",
    "        my_id = possible_id\n",
    "        break\n",
    "\n",
    "print(f\"max_id: {max_id}\")\n",
    "print(f\"my_id: {my_id}\")"
   ]
  }
 ]
}