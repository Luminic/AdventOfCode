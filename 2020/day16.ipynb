{
 "metadata": {
  "language_info": {
   "codemirror_mode": {
    "name": "ipython",
    "version": 3
   },
   "file_extension": ".py",
   "mimetype": "text/x-python",
   "name": "python",
   "nbconvert_exporter": "python",
   "pygments_lexer": "ipython3",
   "version": "3.9.1-final"
  },
  "orig_nbformat": 2,
  "kernelspec": {
   "name": "python3",
   "display_name": "Python 3",
   "language": "python"
  }
 },
 "nbformat": 4,
 "nbformat_minor": 2,
 "cells": [
  {
   "cell_type": "code",
   "execution_count": 1,
   "metadata": {},
   "outputs": [],
   "source": [
    "import math\n",
    "import string\n",
    "import time\n",
    "from collections import defaultdict\n",
    "from helpful_functions import *\n",
    "import re\n",
    "import copy"
   ]
  },
  {
   "cell_type": "code",
   "execution_count": 2,
   "metadata": {},
   "outputs": [],
   "source": [
    "with open(\"day16_input.txt\", \"r\") as f:\n",
    "    prog_inp = f.readlines()\n",
    "\n",
    "prog_inp = [line.rstrip() for line in prog_inp]\n",
    "\n",
    "for i in range(len(prog_inp)-1,-1,-1):\n",
    "    if prog_inp[i] == '': del prog_inp[i]\n",
    "    else: break"
   ]
  },
  {
   "cell_type": "code",
   "execution_count": 3,
   "metadata": {
    "tags": []
   },
   "outputs": [],
   "source": [
    "rules = dict()\n",
    "all_rules = []\n",
    "my_ticket = []\n",
    "tickets = []\n",
    "\n",
    "# 0: Rules\n",
    "# 1: My Ticket\n",
    "# 2: Nearby Tickets\n",
    "current_line_type = 0\n",
    "for line in prog_inp:\n",
    "    if not line:\n",
    "        continue\n",
    "    elif line == \"your ticket:\":\n",
    "        current_line_type = 1\n",
    "        continue\n",
    "    elif line == \"nearby tickets:\":\n",
    "        current_line_type = 2\n",
    "        continue\n",
    "\n",
    "    if current_line_type == 0:\n",
    "        segments = line.split(' ')\n",
    "        rule_name = \" \".join(segments[:-3])[:-1]\n",
    "        legal_ranges = [segments[-3], segments[-1]]\n",
    "        for i, my_range in enumerate(legal_ranges):\n",
    "            legal_ranges[i] = [int(n) for n in my_range.split('-')]\n",
    "            all_rules.append(legal_ranges[i])\n",
    "\n",
    "        rules[rule_name] = legal_ranges\n",
    "        \n",
    "    elif current_line_type == 1:\n",
    "        my_ticket = [int(n) for n in line.split(',')]\n",
    "    \n",
    "    elif current_line_type == 2:\n",
    "        tickets.append([int(n) for n in line.split(',')])\n",
    "\n",
    "def valid(n, rule, multiple=False):\n",
    "    if multiple:\n",
    "        for r in rule:\n",
    "            if r[0] <= n <= r[1]:\n",
    "                return True\n",
    "        return False\n",
    "    else:\n",
    "        if not (rule[0] <= n <= rule[1]):\n",
    "            return False\n",
    "        return True"
   ]
  },
  {
   "cell_type": "code",
   "execution_count": 4,
   "metadata": {},
   "outputs": [
    {
     "output_type": "stream",
     "name": "stdout",
     "text": [
      "Sum of invalid values: 28884\n"
     ]
    }
   ],
   "source": [
    "invalid_field_values = []\n",
    "valid_tickets = []\n",
    "\n",
    "for ticket in tickets:\n",
    "    valid_ticket = True\n",
    "    for n in ticket:\n",
    "        valid_n = False\n",
    "        for rule in all_rules:\n",
    "            if valid(n, rule):\n",
    "                valid_n = True\n",
    "                break\n",
    "        if not valid_n:\n",
    "            invalid_field_values.append(n)\n",
    "            valid_ticket = False\n",
    "    if valid_ticket:\n",
    "        valid_tickets.append(ticket)\n",
    "\n",
    "print(f\"Sum of invalid values: {sum(invalid_field_values)}\")"
   ]
  },
  {
   "cell_type": "code",
   "execution_count": 5,
   "metadata": {
    "tags": []
   },
   "outputs": [
    {
     "output_type": "stream",
     "name": "stdout",
     "text": [
      "Fields (in order):\nduration, departure time, departure location, type, train, price, wagon, arrival track, zone, departure track, arrival station, departure date, arrival platform, departure platform, departure station, class, route, seat, arrival location, row\n"
     ]
    }
   ],
   "source": [
    "rules_for_index = []\n",
    "\n",
    "for i in range(len(my_ticket)):\n",
    "    rules_for_index.append(list(rules.keys()))\n",
    "\n",
    "for ticket in valid_tickets:\n",
    "    for i, val in enumerate(ticket):\n",
    "        for j in range(len(rules_for_index[i])-1, -1, -1):\n",
    "            rule_name = rules_for_index[i][j]\n",
    "            if not valid(val, rules[rule_name], multiple=True):\n",
    "                del rules_for_index[i][j]\n",
    "\n",
    "known_rules = set()\n",
    "\n",
    "for _ in range(len(rules_for_index)**2):\n",
    "    for i, rule in enumerate(rules_for_index):\n",
    "        if len(rule) == 1:\n",
    "            known_rules.add(rule[0])\n",
    "        else:\n",
    "            for j in range(len(rules_for_index[i])-1, -1, -1):\n",
    "                if rules_for_index[i][j] in known_rules:\n",
    "                    del rules_for_index[i][j]\n",
    "\n",
    "print(\"Fields (in order):\")\n",
    "print(\", \".join([rule[0] for rule in rules_for_index]))"
   ]
  },
  {
   "cell_type": "code",
   "execution_count": 6,
   "metadata": {},
   "outputs": [
    {
     "output_type": "stream",
     "name": "stdout",
     "text": [
      "multiplied values: 1001849322119\n"
     ]
    }
   ],
   "source": [
    "running_multiple = 1\n",
    "for i, val in enumerate(my_ticket):\n",
    "    if \"departure\" in rules_for_index[i][0]:\n",
    "        running_multiple *= val\n",
    "\n",
    "print(f\"multiplied values: {running_multiple}\")"
   ]
  }
 ]
}