{
 "metadata": {
  "language_info": {
   "codemirror_mode": {
    "name": "ipython",
    "version": 3
   },
   "file_extension": ".py",
   "mimetype": "text/x-python",
   "name": "python",
   "nbconvert_exporter": "python",
   "pygments_lexer": "ipython3",
   "version": "3.9.0-final"
  },
  "orig_nbformat": 2,
  "kernelspec": {
   "name": "python3",
   "display_name": "Python 3",
   "language": "python"
  }
 },
 "nbformat": 4,
 "nbformat_minor": 2,
 "cells": [
  {
   "cell_type": "code",
   "execution_count": 1,
   "metadata": {},
   "outputs": [],
   "source": [
    "import math\n",
    "import string\n",
    "import time\n",
    "from collections import defaultdict\n",
    "from helpful_functions import *\n",
    "import re\n",
    "import copy"
   ]
  },
  {
   "cell_type": "code",
   "execution_count": 2,
   "metadata": {},
   "outputs": [
    {
     "output_type": "stream",
     "name": "stdout",
     "text": [
      "['mask = 00010010001010101XXXX000000X111X0111', 'mem[32507] = 5127835', 'mem[25226] = 65531297', 'mem[41033] = 582', 'mask = 001X10X011XX10001110X10X0010101X1X1X']\n"
     ]
    }
   ],
   "source": [
    "with open(\"day14_input.txt\", \"r\") as f:\n",
    "    prog_inp = f.readlines()\n",
    "\n",
    "prog_inp = [line.rstrip() for line in prog_inp]\n",
    "\n",
    "for i in range(len(prog_inp)-1,-1,-1):\n",
    "    if prog_inp[i] == '': del prog_inp[i]\n",
    "    else: break\n",
    "print(prog_inp[:5])"
   ]
  },
  {
   "cell_type": "code",
   "execution_count": 3,
   "metadata": {},
   "outputs": [
    {
     "output_type": "stream",
     "name": "stdout",
     "text": [
      "[['00010010001010101XXXX000000X111X0111', (32507, 5127835), (25226, 65531297), (41033, 582)], ['001X10X011XX10001110X10X0010101X1X1X', (43059, 28874), (43129, 672), (270, 121337), (14460, 800244), (49574, 1609)], ['0X000X10X0X1100010011101000011001101', (3758, 338483), (36408, 1996), (3168, 2420), (5476, 102807241)], ['X00010X00000X010100X001000X11XX0X1X1', (39138, 29912), (3787, 27427), (58282, 432103164), (52780, 153911022), (9460, 3683), (11530, 32281)], ['0X1001010110100X1001X10X0X0100X1000X', (16385, 4224856), (33966, 14578), (58286, 38609), (38456, 59860554)]]\n"
     ]
    }
   ],
   "source": [
    "parsed_inp = []\n",
    "for i, line in enumerate(prog_inp):\n",
    "    if line[:4] == \"mask\":\n",
    "        parsed_inp.append([])\n",
    "        parsed_inp[-1].append(line.split(' ')[-1])\n",
    "    else:\n",
    "        parsed_inp[-1].append((\n",
    "            int(re.search(r\"\\[([^[\\]]+)\\]\", line).group()[1:-1]),\n",
    "            int(line.split(' ')[-1])\n",
    "        ))\n",
    "    \n",
    "print(parsed_inp[:5])"
   ]
  },
  {
   "cell_type": "code",
   "execution_count": 4,
   "metadata": {},
   "outputs": [],
   "source": [
    "def overwrite(n, mask):\n",
    "    res = []\n",
    "    for i in range(len(n)):\n",
    "        if mask[i] == 'X':\n",
    "            res.append(n[i])\n",
    "        else:\n",
    "            res.append(mask[i])\n",
    "    return \"\".join(res)\n",
    "\n",
    "memory = defaultdict(lambda: 0)\n",
    "\n",
    "for group in parsed_inp:\n",
    "    mask = group[0]\n",
    "    for i in range(1, len(group)):\n",
    "        nr = bin(group[i][1])[2:]\n",
    "        nr = '0' * (len(mask)-len(nr)) + nr\n",
    "        masked_nr = overwrite(nr, mask)\n",
    "        memory[group[i][0]] = int(masked_nr, 2)\n",
    "\n",
    "# print(memory)"
   ]
  },
  {
   "cell_type": "code",
   "execution_count": 5,
   "metadata": {},
   "outputs": [
    {
     "output_type": "stream",
     "name": "stdout",
     "text": [
      "3059488894985\n"
     ]
    }
   ],
   "source": [
    "res = 0\n",
    "for k,v in memory.items():\n",
    "    res += v\n",
    "print(res)"
   ]
  },
  {
   "cell_type": "code",
   "execution_count": 6,
   "metadata": {
    "tags": []
   },
   "outputs": [],
   "source": [
    "def decode(n, mask):\n",
    "    \n",
    "    res = [[]]\n",
    "    for i in range(len(n)):\n",
    "        if mask[i] == 'X':\n",
    "            # print(\"bef\", len(res))\n",
    "            half_index = len(res)\n",
    "            res += copy.deepcopy(res)\n",
    "            # print(\"aft\", len(res))\n",
    "            for j in range(half_index):\n",
    "                res[j].append('0')\n",
    "            for j in range(half_index, len(res)):\n",
    "                res[j].append('1')\n",
    "        else:\n",
    "            for j in range(len(res)):\n",
    "                if mask[i] == '0':\n",
    "                    res[j].append(n[i])\n",
    "                else:\n",
    "                    res[j].append('1')\n",
    "    return [\"\".join(r) for r in res]\n",
    "\n",
    "memory = dict()\n",
    "\n",
    "for group in parsed_inp:\n",
    "    mask = group[0]\n",
    "    # print()\n",
    "    # print(group)\n",
    "    for i in range(1, len(group)):\n",
    "        nr = bin(group[i][0])[2:]\n",
    "        nr = '0' * (len(mask)-len(nr)) + nr\n",
    "        decoded_nrs = decode(nr, mask)\n",
    "        for decoded_nr in decoded_nrs:\n",
    "            # print(f\"writing {group[i][1]} to {int(decoded_nr, 2)}\")\n",
    "            memory[int(decoded_nr, 2)] = group[i][1]\n",
    "\n",
    "# print(memory)"
   ]
  },
  {
   "cell_type": "code",
   "execution_count": 7,
   "metadata": {},
   "outputs": [
    {
     "output_type": "stream",
     "name": "stdout",
     "text": [
      "2900994392308\n"
     ]
    }
   ],
   "source": [
    "res = 0\n",
    "for k,v in memory.items():\n",
    "    res += v\n",
    "print(res)"
   ]
  },
  {
   "cell_type": "code",
   "execution_count": null,
   "metadata": {},
   "outputs": [],
   "source": []
  }
 ]
}