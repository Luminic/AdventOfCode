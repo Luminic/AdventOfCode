{
 "metadata": {
  "language_info": {
   "codemirror_mode": {
    "name": "ipython",
    "version": 3
   },
   "file_extension": ".py",
   "mimetype": "text/x-python",
   "name": "python",
   "nbconvert_exporter": "python",
   "pygments_lexer": "ipython3",
   "version": "3.9.0-final"
  },
  "orig_nbformat": 2,
  "kernelspec": {
   "name": "python3",
   "display_name": "Python 3"
  }
 },
 "nbformat": 4,
 "nbformat_minor": 2,
 "cells": [
  {
   "cell_type": "code",
   "execution_count": 1,
   "metadata": {
    "tags": []
   },
   "outputs": [
    {
     "output_type": "stream",
     "name": "stdout",
     "text": [
      "['ecl:#eef340 eyr:2023 hcl:#c0946f pid:244684338 iyr:2020 cid:57 byr:1969 hgt:152cm', '', 'pid:303807545 cid:213 ecl:gry hcl:#fffffd', 'eyr:2038 byr:1951', 'hgt:171cm iyr:2011']\n"
     ]
    }
   ],
   "source": [
    "# Boilerplate: loading input\n",
    "\n",
    "prog_inp = \"\"\n",
    "with open(\"day4_input.txt\", \"r\") as f:\n",
    "    prog_inp = f.readlines()\n",
    "\n",
    "prog_inp = [line.rstrip() for line in prog_inp]\n",
    "print(prog_inp[:5])"
   ]
  },
  {
   "cell_type": "code",
   "execution_count": 2,
   "metadata": {
    "tags": []
   },
   "outputs": [
    {
     "output_type": "stream",
     "name": "stdout",
     "text": [
      "[{'ecl': '#eef340', 'eyr': '2023', 'hcl': '#c0946f', 'pid': '244684338', 'iyr': '2020', 'cid': '57', 'byr': '1969', 'hgt': '152cm'}, {'pid': '303807545', 'cid': '213', 'ecl': 'gry', 'hcl': '#fffffd', 'eyr': '2038', 'byr': '1951', 'hgt': '171cm', 'iyr': '2011'}, {'hcl': '#c0946f', 'byr': '1933', 'eyr': '2025', 'pid': '517067213', 'hgt': '173cm', 'ecl': 'hzl', 'iyr': '2018'}, {'pid': '5253256652', 'byr': '2009', 'hgt': '152cm', 'iyr': '1989', 'eyr': '1968', 'hcl': '64cb63', 'ecl': 'hzl'}, {'iyr': '2013', 'pid': '862607211', 'eyr': '2020', 'hgt': '174cm', 'byr': '1990', 'ecl': 'blu', 'hcl': '#888785'}]\n"
     ]
    }
   ],
   "source": [
    "# Parsing data into usable form\n",
    "\n",
    "passports = []\n",
    "passport = []\n",
    "for i, line in enumerate(prog_inp):\n",
    "    if line == '':\n",
    "        passports.append(passport)\n",
    "        passport = []\n",
    "    else:\n",
    "        passport += line.split(' ')\n",
    "if len(passport) > 0: passports.append(passport)\n",
    "\n",
    "for (i, passport) in enumerate(passports):\n",
    "    parsed_passport = {}\n",
    "    for (j, field) in enumerate(passport):\n",
    "        field = field.split(':')\n",
    "        parsed_passport[field[0]] = field[1]\n",
    "    passports[i] = parsed_passport\n",
    "\n",
    "print(passports[:5])"
   ]
  },
  {
   "cell_type": "code",
   "execution_count": 3,
   "metadata": {},
   "outputs": [
    {
     "output_type": "stream",
     "name": "stdout",
     "text": [
      "409\n123\n257\n"
     ]
    }
   ],
   "source": [
    "# This is how I did it in the competition (rushed for time)\n",
    "\"\"\"\n",
    "Postmortem:\n",
    "\n",
    "For pt 1, I decided counting invalid passports was easier. However, I used `continue` instead of `break` and this bug caused my to over count invalid passports. Unable to debug this, I hacked in a counter for valid passwords and solved it that way.\n",
    "\n",
    "For pt 2, I followed the same hacked-together mess I had in pt 1 and made a Frankenstien's monster that works. It is by far the worst thing I have written (my code from the first day of learning python is better than this) but oh well.\n",
    "\"\"\"\n",
    "\n",
    "# Field name : Required\n",
    "fields = {\n",
    "    \"byr\" : True,\n",
    "    \"iyr\" : True,\n",
    "    \"eyr\" : True,\n",
    "    \"hgt\" : True,\n",
    "    \"hcl\" : True,\n",
    "    \"ecl\" : True,\n",
    "    \"pid\" : True,\n",
    "    \"cid\" : False\n",
    "}\n",
    "\n",
    "invalid_passports = 0\n",
    "valid_passports = 0\n",
    "for (i, passport) in enumerate(passports):\n",
    "    valid = True\n",
    "    for key in fields.keys():\n",
    "        if fields[key] and not key in passport.keys():\n",
    "            valid = False\n",
    "            invalid_passports += 1\n",
    "            continue\n",
    "        if key == 'byr':\n",
    "            try:\n",
    "                yr = int(passport[key])\n",
    "            except:\n",
    "                valid = False\n",
    "                invalid_passports += 1\n",
    "                continue\n",
    "            if yr < 1920 or yr > 2002:\n",
    "                valid = False\n",
    "                invalid_passports += 1\n",
    "                continue\n",
    "        elif key == 'iyr':\n",
    "            try:\n",
    "                yr = int(passport[key])\n",
    "            except:\n",
    "                valid = False\n",
    "                invalid_passports += 1\n",
    "                continue\n",
    "            if yr < 2010 or yr > 2020:\n",
    "                valid = False\n",
    "                invalid_passports += 1\n",
    "                continue\n",
    "        elif key == 'eyr':\n",
    "            try:\n",
    "                yr = int(passport[key])\n",
    "            except:\n",
    "                valid = False\n",
    "                invalid_passports += 1\n",
    "                continue\n",
    "            if yr < 2020 or yr > 2030:\n",
    "                valid = False\n",
    "                invalid_passports += 1\n",
    "                continue\n",
    "        elif key == 'hgt':\n",
    "            try:\n",
    "                ht = int(passport[key][:-2])\n",
    "                unit = passport[key][-2:]\n",
    "            except:\n",
    "                valid = False\n",
    "                invalid_passports += 1\n",
    "                continue\n",
    "            if unit == 'in':\n",
    "                if ht < 59 or ht > 76:\n",
    "                    valid = False\n",
    "                    invalid_passports += 1\n",
    "                    continue\n",
    "            elif unit == 'cm':\n",
    "                if ht < 150 or ht > 193:\n",
    "                    valid = False\n",
    "                    invalid_passports += 1\n",
    "                    continue\n",
    "            else:\n",
    "                valid = False\n",
    "                invalid_passports += 1\n",
    "                continue\n",
    "        elif key == 'hcl':\n",
    "            if passport[key][0] != '#' or len(passport[key]) != 7:\n",
    "                valid = False\n",
    "                invalid_passports += 1\n",
    "                continue\n",
    "        elif key == 'ecl':\n",
    "            if not passport[key] in ['amb', 'blu', 'brn', 'gry', 'grn', 'hzl', 'oth']:\n",
    "                valid = False\n",
    "                invalid_passports += 1\n",
    "                continue\n",
    "        elif key == 'pid':\n",
    "            if len(passport[key]) != 9:\n",
    "                valid = False\n",
    "                invalid_passports += 1\n",
    "                continue\n",
    "        \n",
    "    if valid:\n",
    "        valid_passports += 1\n",
    "\n",
    "# valid_passports = len(passports) - invalid_passports\n",
    "print(invalid_passports)\n",
    "print(valid_passports)\n",
    "print(len(passports))"
   ]
  },
  {
   "cell_type": "code",
   "execution_count": 12,
   "metadata": {},
   "outputs": [
    {
     "output_type": "stream",
     "name": "stdout",
     "text": [
      "valid_passports: 131\n"
     ]
    }
   ],
   "source": [
    "# This is how I would do it if I had time (readable & maintainable, not performance optimized)\n",
    "\n",
    "def parse_int(val, if_fail=False):\n",
    "    try:\n",
    "        result = int(val)\n",
    "    except:\n",
    "        return if_fail\n",
    "    return result\n",
    "\n",
    "def hgt_valid(val):\n",
    "    if type(val) != str:\n",
    "        return False\n",
    "    elif len(val) <= 2:\n",
    "        return False\n",
    "\n",
    "    unit = val[-2:]\n",
    "    nr = parse_int(val[:-2])\n",
    "\n",
    "    acceptable_range = [None, None]\n",
    "    if unit == 'cm': acceptable_range = [150, 193]\n",
    "    elif unit == 'in': acceptable_range = [59, 76]\n",
    "    else: return False\n",
    "\n",
    "    return acceptable_range[0] <= nr <= acceptable_range[1]\n",
    "\n",
    "def hcl_valid(val):\n",
    "    if type(val) == str:\n",
    "        if len(val) == 7:\n",
    "            return val[0] == '#'\n",
    "    return False\n",
    "\n",
    "# Field name : Function returning whether or not the value meets the requirements for the field\n",
    "# Should ALWAYS return True or False no matter the input\n",
    "fields = {\n",
    "    \"byr\" : lambda v: 1920 <= parse_int(v) <= 2002,\n",
    "    \"iyr\" : lambda v: 2010 <= parse_int(v) <= 2020,\n",
    "    \"eyr\" : lambda v: 2020 <= parse_int(v) <= 2030,\n",
    "    \"hgt\" : hgt_valid,\n",
    "    \"hcl\" : hcl_valid,\n",
    "    \"ecl\" : lambda v: v in ['amb', 'blu', 'brn', 'gry', 'grn', 'hzl', 'oth'],\n",
    "    \"pid\" : lambda v: len(v) == 9 if type(v) == str else False,\n",
    "    \"cid\" : lambda v: True\n",
    "}\n",
    "\n",
    "invalid_passports = 0\n",
    "valid_passports = 0\n",
    "for (i, passport) in enumerate(passports):\n",
    "    for key in fields.keys():\n",
    "        if key in passport.keys():\n",
    "            value = passport[key]\n",
    "        else: \n",
    "            value = None\n",
    "        if fields[key](value) == False:\n",
    "            invalid_passports += 1\n",
    "            break\n",
    "\n",
    "valid_passports = len(passports) - invalid_passports\n",
    "\n",
    "print(f\"valid_passports: {valid_passports}\")\n"
   ]
  }
 ]
}